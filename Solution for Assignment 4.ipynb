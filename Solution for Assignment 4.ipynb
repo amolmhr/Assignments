{
 "cells": [
  {
   "cell_type": "markdown",
   "id": "7e5c1c1b",
   "metadata": {},
   "source": [
    "<b> 1. What exactly is []?</b>"
   ]
  },
  {
   "cell_type": "markdown",
   "id": "d6c58b2c",
   "metadata": {},
   "source": [
    "[] is used to denote an empty list. List is one of the data type in python. It is ordered and mutable. "
   ]
  },
  {
   "cell_type": "markdown",
   "id": "30fcb5cf",
   "metadata": {},
   "source": [
    "<b> 2. In a list of values stored in a variable called spam, how would you assign the value 'hello' as the third value? (Assume [2, 4, 6, 8, 10] are in spam.) </b>"
   ]
  },
  {
   "cell_type": "markdown",
   "id": "18210a52",
   "metadata": {},
   "source": [
    "The value hello at the third postion can be stored by using following command:"
   ]
  },
  {
   "cell_type": "code",
   "execution_count": 1,
   "id": "af4d64da",
   "metadata": {},
   "outputs": [],
   "source": [
    "spam = [2,4,6,8,10]"
   ]
  },
  {
   "cell_type": "code",
   "execution_count": 2,
   "id": "3eabc053",
   "metadata": {},
   "outputs": [],
   "source": [
    "spam[2]=\"hello\" # assigning the value at third postion."
   ]
  },
  {
   "cell_type": "code",
   "execution_count": 3,
   "id": "9118ef3c",
   "metadata": {},
   "outputs": [
    {
     "data": {
      "text/plain": [
       "[2, 4, 'hello', 8, 10]"
      ]
     },
     "execution_count": 3,
     "metadata": {},
     "output_type": "execute_result"
    }
   ],
   "source": [
    "spam"
   ]
  },
  {
   "cell_type": "markdown",
   "id": "a40aca00",
   "metadata": {},
   "source": [
    "<b>Let's pretend the spam includes the list ['a', 'b', 'c', 'd'] for the next three queries.</b>\n",
    "\n"
   ]
  },
  {
   "cell_type": "markdown",
   "id": "acada03a",
   "metadata": {},
   "source": [
    "<b>3. What is the value of spam[int(int('3' * 2) / 11)]?</b>"
   ]
  },
  {
   "cell_type": "code",
   "execution_count": 4,
   "id": "c9a825e5",
   "metadata": {},
   "outputs": [],
   "source": [
    "spam = ['a','b','c','d']"
   ]
  },
  {
   "cell_type": "markdown",
   "id": "fb2037d2",
   "metadata": {},
   "source": [
    "Breaking the code spam[int(int('3' * 2) / 11)] as per BODMAS principle:\n",
    "1. ('3'*2) will give the output '33', as 3 is a string and multiplying it with 2 will repeat the string twice.\n",
    "2. Then the string is typecasted by int keyword to value 33.\n",
    "3. Then value 33 is divided by 11 will give value 3.\n",
    "4. Lastly spam[3] will generate the value present at 4th position in list which will be string 'd'.\n"
   ]
  },
  {
   "cell_type": "markdown",
   "id": "0da0dc5b",
   "metadata": {},
   "source": [
    "<b>4. What is the value of spam[-1]?</b>"
   ]
  },
  {
   "cell_type": "markdown",
   "id": "e3006cd6",
   "metadata": {},
   "source": [
    "spam[-1] will provide the last value in the list which will be 'd'."
   ]
  },
  {
   "cell_type": "markdown",
   "id": "c87e0653",
   "metadata": {},
   "source": [
    "<b> 5. What is the value of spam[:2]?</b>"
   ]
  },
  {
   "cell_type": "markdown",
   "id": "e2d8340f",
   "metadata": {},
   "source": [
    "spam[:2] will provide a list containing all data in the list upto position 2. i.e it will be ['a', 'b']"
   ]
  },
  {
   "cell_type": "code",
   "execution_count": 7,
   "id": "a91d96fb",
   "metadata": {},
   "outputs": [
    {
     "data": {
      "text/plain": [
       "['a', 'b']"
      ]
     },
     "execution_count": 7,
     "metadata": {},
     "output_type": "execute_result"
    }
   ],
   "source": [
    "spam[:2]"
   ]
  },
  {
   "cell_type": "markdown",
   "id": "f0401cd5",
   "metadata": {},
   "source": [
    "<b> Let's pretend bacon has the list [3.14, 'cat,' 11, 'cat,' True] for the next three questions. </b>"
   ]
  },
  {
   "cell_type": "markdown",
   "id": "1b83a0f1",
   "metadata": {},
   "source": [
    "<b> 6. What is the value of bacon.index('cat')?</b>"
   ]
  },
  {
   "cell_type": "code",
   "execution_count": 18,
   "id": "e3829725",
   "metadata": {},
   "outputs": [],
   "source": [
    "bacon = [3.14, 'cat', 11, 'cat', True]"
   ]
  },
  {
   "cell_type": "markdown",
   "id": "efb13e19",
   "metadata": {},
   "source": [
    "bacon.index('cat') will provide the position at which data 'cat' exists. Since,the data 'cat' exist at postion 1 and 3.\n",
    "It will consider the 1st position and will give o/p 1."
   ]
  },
  {
   "cell_type": "code",
   "execution_count": 19,
   "id": "09a57435",
   "metadata": {},
   "outputs": [
    {
     "data": {
      "text/plain": [
       "1"
      ]
     },
     "execution_count": 19,
     "metadata": {},
     "output_type": "execute_result"
    }
   ],
   "source": [
    "bacon.index('cat')"
   ]
  },
  {
   "cell_type": "markdown",
   "id": "8c35ded0",
   "metadata": {},
   "source": [
    "<b> 7. How does bacon.append(99) change the look of the list value in bacon? </b>"
   ]
  },
  {
   "cell_type": "markdown",
   "id": "1539b60e",
   "metadata": {},
   "source": [
    "bacon.append(99) will add 99 value at the end of the list."
   ]
  },
  {
   "cell_type": "code",
   "execution_count": 20,
   "id": "2c33b9ce",
   "metadata": {},
   "outputs": [
    {
     "data": {
      "text/plain": [
       "[3.14, 'cat', 11, 'cat', True, 99]"
      ]
     },
     "execution_count": 20,
     "metadata": {},
     "output_type": "execute_result"
    }
   ],
   "source": [
    "bacon.append(99)\n",
    "bacon"
   ]
  },
  {
   "cell_type": "markdown",
   "id": "8bb5214c",
   "metadata": {},
   "source": [
    "<b>8. How does bacon.remove('cat') change the look of the list in bacon?</b>"
   ]
  },
  {
   "cell_type": "markdown",
   "id": "4c076eff",
   "metadata": {},
   "source": [
    "The command bacon.remove('cat') will remove the string 'cat' from the list.Since the string 'cat' is coming at the 1st position,\n",
    "the command will remove 'cat' at first position and other data positions coming afterwards will slide down by 1."
   ]
  },
  {
   "cell_type": "code",
   "execution_count": 21,
   "id": "c4d429a8",
   "metadata": {},
   "outputs": [],
   "source": [
    "bacon.remove('cat')"
   ]
  },
  {
   "cell_type": "code",
   "execution_count": 22,
   "id": "8a0efd9b",
   "metadata": {},
   "outputs": [
    {
     "data": {
      "text/plain": [
       "[3.14, 11, 'cat', True, 99]"
      ]
     },
     "execution_count": 22,
     "metadata": {},
     "output_type": "execute_result"
    }
   ],
   "source": [
    "bacon"
   ]
  },
  {
   "cell_type": "markdown",
   "id": "de03e0ed",
   "metadata": {},
   "source": [
    "<b>9. What are the list concatenation and list replication operators?</b>"
   ]
  },
  {
   "cell_type": "markdown",
   "id": "ee482755",
   "metadata": {},
   "source": [
    "In Python, the list concatenation operator is the plus sign (+), and the list replication operator is the asterisk (*).\n",
    "\n",
    "The plus operator allows you to concatenate two lists together, creating a new list that contains all the elements from both lists in the order they appear.<br>\n",
    "The asterisk operator allows you to replicate a list by a given number of times. It creates a new list that repeats the elements of the original list."
   ]
  },
  {
   "cell_type": "markdown",
   "id": "5c79a904",
   "metadata": {},
   "source": [
    "<b> 10. What is difference between the list methods append() and insert()? </b>"
   ]
  },
  {
   "cell_type": "markdown",
   "id": "a667dd66",
   "metadata": {},
   "source": [
    "The append method is used to insert an element at the last of the list while the insert method needs the position at which the element needs to be inserted.\n",
    "\n",
    "In append method the location is not needed to be defined but in insert method , the position is needed to be defined."
   ]
  },
  {
   "cell_type": "markdown",
   "id": "72673e20",
   "metadata": {},
   "source": [
    "<b> 11. What are the two methods for removing items from a list? </b>"
   ]
  },
  {
   "cell_type": "markdown",
   "id": "68ee7c5d",
   "metadata": {},
   "source": [
    "The two methods for removing items from the List are as follows:\n",
    "\n",
    "1. .remove() method: In this method the first occurence of the specified element is removed.If the element is not found in the list, it raises a ValueError. The syntax is as follows:<br>\n",
    "list.remove(element)\n",
    "\n",
    "2. .pop() method : In this method the element is removed at the specified index in a list. If no index is provided, it removes and returns the last element.The syntax is as follows:<br>\n",
    "list.pop(index)"
   ]
  },
  {
   "cell_type": "markdown",
   "id": "e6c893f5",
   "metadata": {},
   "source": [
    "<b> 12. Describe how list values and string values are identical.</b>"
   ]
  },
  {
   "cell_type": "markdown",
   "id": "4c73f15a",
   "metadata": {},
   "source": [
    "List valus and string values are similar in many ways:\n",
    "\n",
    "1. Indexing: Both lists and strings allow you to access individual elements by their index.\n",
    "2. Slicing: Lists and strings support slicing, which allows you to extract a portion of the sequence. Slicing is done by specifying a start index, an end index (exclusive), and an optional step size.\n",
    "3. Length: Both lists and strings have a length that can be obtained using the len() function."
   ]
  },
  {
   "cell_type": "markdown",
   "id": "da3b21bc",
   "metadata": {},
   "source": [
    "<b>13. What's the difference between tuples and lists?</b>"
   ]
  },
  {
   "cell_type": "markdown",
   "id": "de06565a",
   "metadata": {},
   "source": [
    "1.Tuples are immutable while lists are mutable that means once the tuples are defined the elements in the tuples cannot be changed which is possible in lists by using various methods like remove,append etc.\n",
    "\n",
    "2.Lists are defined using square brackets [ ], while tuples are defined using parentheses ( ). \n"
   ]
  },
  {
   "cell_type": "markdown",
   "id": "0e075f2e",
   "metadata": {},
   "source": [
    "<b> 14. How do you type a tuple value that only contains the integer 42? </b>"
   ]
  },
  {
   "cell_type": "markdown",
   "id": "d93882aa",
   "metadata": {},
   "source": [
    "To type a tuple value that only contains the integer 42, we can use the following syntax:"
   ]
  },
  {
   "cell_type": "code",
   "execution_count": 28,
   "id": "d4415e1d",
   "metadata": {},
   "outputs": [],
   "source": [
    "t = (42,)"
   ]
  },
  {
   "cell_type": "code",
   "execution_count": 29,
   "id": "edd09b56",
   "metadata": {},
   "outputs": [
    {
     "data": {
      "text/plain": [
       "tuple"
      ]
     },
     "execution_count": 29,
     "metadata": {},
     "output_type": "execute_result"
    }
   ],
   "source": [
    "type(t)"
   ]
  },
  {
   "cell_type": "markdown",
   "id": "413ea2de",
   "metadata": {},
   "source": [
    "<b> 15. How do you get a list value's tuple form? How do you get a tuple value's list form?</b>"
   ]
  },
  {
   "cell_type": "markdown",
   "id": "4ca3efb7",
   "metadata": {},
   "source": [
    "To get a tuple form of a list we can use the following syntax: <br>\n",
    "\n",
    "tuple_form = (list)\n",
    "\n",
    "To get a list form of a tuple we can use the following syntax:<br>\n",
    "\n",
    "list_form = [tuple]\n"
   ]
  },
  {
   "cell_type": "markdown",
   "id": "e51c678b",
   "metadata": {},
   "source": [
    "<b>16. Variables that \"contain\" list values are not necessarily lists themselves. Instead, what do they contain?</b>"
   ]
  },
  {
   "cell_type": "markdown",
   "id": "cac404fe",
   "metadata": {},
   "source": [
    "Variables that \"contain\" list values in Python are actually references to list objects rather than the lists themselves.\n",
    "In Python, when we assign a list to a variable, the variable doesn't store the list directly. Instead, it holds a reference (or pointer) to the memory location where the list is stored in the computer's memory. This reference allows us to access and manipulate the list data."
   ]
  },
  {
   "cell_type": "markdown",
   "id": "da738625",
   "metadata": {},
   "source": [
    "<b> 17. How do you distinguish between copy.copy() and copy.deepcopy()?</b>"
   ]
  },
  {
   "cell_type": "markdown",
   "id": "5147e074",
   "metadata": {},
   "source": [
    "n Python, the copy module provides two main functions for creating copies of objects: copy.copy() and copy.deepcopy(). The primary difference between them lies in how they handle object references and nested data structures. Here's a breakdown of their distinctions:\n",
    "\n",
    "copy.copy(): This function performs a shallow copy of an object. It creates a new object and then copies the references to the nested objects of the original. In other words, it duplicates the outer object structure, but the inner objects themselves are still shared between the original and the copied object. If you modify the inner objects in the copy, the changes will be reflected in the original as well. This is known as a shallow copy.\n",
    "\n",
    "copy.deepcopy(): In contrast, copy.deepcopy() creates a deep copy of an object. It recursively copies all objects and nested objects, so that the copied object and its contents are entirely independent of the original. Any changes made to the copied object or its nested objects will not affect the original. Deep copying is particularly useful when you need to create a complete and independent duplicate of a complex object or data structure."
   ]
  }
 ],
 "metadata": {
  "kernelspec": {
   "display_name": "Python 3 (ipykernel)",
   "language": "python",
   "name": "python3"
  },
  "language_info": {
   "codemirror_mode": {
    "name": "ipython",
    "version": 3
   },
   "file_extension": ".py",
   "mimetype": "text/x-python",
   "name": "python",
   "nbconvert_exporter": "python",
   "pygments_lexer": "ipython3",
   "version": "3.10.9"
  }
 },
 "nbformat": 4,
 "nbformat_minor": 5
}
