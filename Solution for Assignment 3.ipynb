{
 "cells": [
  {
   "cell_type": "markdown",
   "id": "0189ed62",
   "metadata": {},
   "source": [
    "<b> 1. Why are functions advantageous to have in your programs?</b>"
   ]
  },
  {
   "cell_type": "markdown",
   "id": "3c226eba",
   "metadata": {},
   "source": [
    "The advantages of functions are as follows:<br>\n",
    "<br>\n",
    "1. Code organization and modularity: Functions allow you to break down your program into smaller, manageable, and reusable pieces of code.\n",
    "2. Reusability: Functions promote code reuse. Once you define a function, you can call it multiple times from different parts of your program. This avoids duplicating code and reduces redundancy, making your code more concise and efficient. \n",
    "3. Abstraction: Functions provide an abstraction layer in your program. They encapsulate a set of operations into a single entity, allowing you to work with high-level concepts rather than dealing with low-level implementation details.\n",
    "4. Readability and maintainability: By using functions, you can make your code more readable and self-explanatory.\n",
    "5. Testing and debugging: Functions enable easier testing and debugging.\n"
   ]
  },
  {
   "cell_type": "markdown",
   "id": "118e0cbb",
   "metadata": {},
   "source": [
    "<b>2. When does the code in a function run: when it's specified or when it's called? </b>"
   ]
  },
  {
   "cell_type": "markdown",
   "id": "985abc3f",
   "metadata": {},
   "source": [
    "The code inside the function runs only when it is called. When we specify the the function inside \"def\" , the function remains dormant until it is called.\n",
    "\n",
    "Here's an example to illustrate this concept:"
   ]
  },
  {
   "cell_type": "code",
   "execution_count": 1,
   "id": "231382c5",
   "metadata": {},
   "outputs": [],
   "source": [
    " def hello():\n",
    "    print(\"Hello World!!\")"
   ]
  },
  {
   "cell_type": "code",
   "execution_count": 2,
   "id": "b2edb59d",
   "metadata": {},
   "outputs": [
    {
     "name": "stdout",
     "output_type": "stream",
     "text": [
      "Hello World!!\n"
     ]
    }
   ],
   "source": [
    "hello()"
   ]
  },
  {
   "cell_type": "markdown",
   "id": "8677423f",
   "metadata": {},
   "source": [
    "In the first block of code the function named hello is defined which will print \"Hello World!!\" when it is called.\n",
    "When we executed the first block it doesn't provide anu output.<br>\n",
    "However when the function hello() is called in second block of code the output \"Hello World!!\" is generated."
   ]
  },
  {
   "cell_type": "markdown",
   "id": "43786843",
   "metadata": {},
   "source": [
    "<b> 3. What statement creates a function?</b>"
   ]
  },
  {
   "cell_type": "markdown",
   "id": "b24f8a49",
   "metadata": {},
   "source": [
    "In python, the function is created by using def keyword and the name of function to be defined has to be written afterwards it.\n",
    "The name of function can either have open parenthesis if no arguments needs to be passed or can have single or multiple elements.\n",
    "The block of code written under the statement with proper indentation will be the code that will run when the function gets called.\n",
    "Here's an example"
   ]
  },
  {
   "cell_type": "code",
   "execution_count": 3,
   "id": "c4836826",
   "metadata": {},
   "outputs": [],
   "source": [
    "def hello():\n",
    "    print(\"Hello World!!\")\n",
    "    print(\"Hello World!!\")\n",
    "    print(\"Hello World!!\")\n",
    "    print(\"Hello World!!\")"
   ]
  },
  {
   "cell_type": "markdown",
   "id": "0205e8c1",
   "metadata": {},
   "source": [
    "<b> 4. What is the difference between a function and a function call? </b>"
   ]
  },
  {
   "cell_type": "markdown",
   "id": "831b7fd0",
   "metadata": {},
   "source": [
    "A function and a function call are two related but distinct concepts in programming:\n",
    "\n",
    "1. Function: A function is a named block of code that performs a specific task or a series of actions. Functions can have inputs, known as parameters or arguments, and they can produce outputs, known as return values. Functions encapsulate a set of instructions and are designed to be reusable, modular, and self-contained units of code.\n",
    "\n",
    "2. Function Call: A function call, also known as invoking or executing a function, is the act of using the function by its name to execute the code within the function's code block. When you call a function, you provide any required arguments or inputs (if the function expects them) inside parentheses. The function call transfers the program flow to the function, executes the code within the function, and then returns to the point where the function was called."
   ]
  },
  {
   "cell_type": "markdown",
   "id": "42baa95e",
   "metadata": {},
   "source": [
    "<b> 5. How many global scopes are there in a Python program? How many local scopes?</b>"
   ]
  },
  {
   "cell_type": "markdown",
   "id": "59b6b15f",
   "metadata": {},
   "source": [
    "In a Python program, there can be multiple global scopes but only one local scope per function call.\n",
    "\n",
    "Global Scope: The global scope refers to the top-level scope of a Python program. It is outside of any function or class definition. Any variable defined at the global scope is accessible throughout the entire program, including inside functions and classes. There can be multiple global scopes in a program if you define variables or functions at different levels of the program hierarchy, such as in separate modules or files.\n",
    "\n",
    "Local Scope: A local scope, also known as a function scope, is created whenever a function is called. It is a temporary scope that exists only during the execution of that specific function call. Variables defined within a function are local to that function and can only be accessed within its code block. Each function call creates a new local scope, and when the function call finishes, the local scope is destroyed, and the variables within it cease to exist.\n",
    "\n",
    "\n",
    "\n",
    "\n",
    "\n",
    "\n",
    "\n"
   ]
  },
  {
   "cell_type": "markdown",
   "id": "a7f327c4",
   "metadata": {},
   "source": [
    "<b> 6. What happens to variables in a local scope when the function call returns? </b>"
   ]
  },
  {
   "cell_type": "markdown",
   "id": "46511cbc",
   "metadata": {},
   "source": [
    "When a function call returns in Python, the local scope associated with that function is destroyed, and the variables defined within that local scope cease to exist."
   ]
  },
  {
   "cell_type": "markdown",
   "id": "3912117f",
   "metadata": {},
   "source": [
    "<b>7. What is the concept of a return value? Is it possible to have a return value in an expression?</b>"
   ]
  },
  {
   "cell_type": "markdown",
   "id": "8c257637",
   "metadata": {},
   "source": [
    "The return value is the value that the function returns when the defined function is called within a program. When the output generated by a function needs to be used furthur in multiple ways, a return value is defined within the function.\n",
    "The return value can be of any data type, such as integers, strings, lists, or even more complex objects.\n",
    "\n",
    "In Python, you use the return statement to specify the return value of a function. When the return statement is encountered in a function, it immediately stops the execution of the function and passes the specified value (or None if no value is provided) back to the caller.\n",
    "\n",
    "A return value cannot be directly used in an expression. When a function call is used within an expression, the return value must be assigned to a variable or used as part of an expression separately.\n"
   ]
  },
  {
   "cell_type": "markdown",
   "id": "f4dc17bb",
   "metadata": {},
   "source": [
    "<b> 8. If a function does not have a return statement, what is the return value of a call to that function?</b>"
   ]
  },
  {
   "cell_type": "markdown",
   "id": "045fd89b",
   "metadata": {},
   "source": [
    "If a function does not have a return statement, or if the return statement is omitted, the function call will still return a value. In Python, the default return value in such cases is 'None'.None is a special value in Python used to indicate the absence of a value. When a function lacks a return statement or reaches the end without returning a value, Python automatically assigns None as the return value."
   ]
  },
  {
   "cell_type": "markdown",
   "id": "4ff2a7b1",
   "metadata": {},
   "source": [
    "<b> 9. How do you make a function variable refer to the global variable?</b>"
   ]
  },
  {
   "cell_type": "markdown",
   "id": "513fa4c1",
   "metadata": {},
   "source": [
    "A function variable can refer to the global variable by using the keyword \"global\".The global keyword allows to declare that a variable inside a function should refer to the global variable with the same name, rather than creating a new local variable."
   ]
  },
  {
   "cell_type": "markdown",
   "id": "1c46f399",
   "metadata": {},
   "source": [
    "<b> 10. What is the data type of None?</b>"
   ]
  },
  {
   "cell_type": "markdown",
   "id": "dab1b54b",
   "metadata": {},
   "source": [
    "The data type of None is Nonetype."
   ]
  },
  {
   "cell_type": "markdown",
   "id": "518868e7",
   "metadata": {},
   "source": [
    "<b> 11. What does the sentence import areallyourpetsnamederic do?</b>"
   ]
  },
  {
   "cell_type": "markdown",
   "id": "0c2d12aa",
   "metadata": {},
   "source": [
    "In Python, the import statement is used to import modules, which are files containing Python code that can be used in other programs. When importing a module, you typically provide the name of the module you want to import.\n",
    "\n",
    "Since, the code mentioned in question is trying to import module naming \"areallyourpetsnamederic\" which does not exist.The interpreter will generate error that no module of name \"areallyourpetsnamederic\" exists."
   ]
  },
  {
   "cell_type": "markdown",
   "id": "2d854cd5",
   "metadata": {},
   "source": [
    "<b>12. If you had a bacon() feature in a spam module, what would you call it after importing spam?</b>"
   ]
  },
  {
   "cell_type": "markdown",
   "id": "b7ad7aee",
   "metadata": {},
   "source": [
    "The spam module can be imported by command:<br>\n",
    "import spam<br>\n",
    "To use the feature bacon() in spam, we can use command:<br>\n",
    "spam.bacon()\n"
   ]
  },
  {
   "cell_type": "markdown",
   "id": "ee633fb4",
   "metadata": {},
   "source": [
    "<b> 13. What can you do to save a programme from crashing if it encounters an error?</b>"
   ]
  },
  {
   "cell_type": "markdown",
   "id": "2c0488cd",
   "metadata": {},
   "source": [
    "To save a program from crashing when it encounters an error, we can implement exception handling in Python.Exception handling allows us to anticipate and handle errors or exceptions that may occur during program execution, preventing the program from abruptly terminating.\n",
    "\n",
    "The statements that are used for exception handling are 'Try', 'Except' ,'Else', and 'Finally'.\n",
    "\n",
    "Here's an overview of these statements:\n",
    "\n",
    "1. try block: We enclose the code that we suspect might raise an exception within a try block.\n",
    "\n",
    "2. except block: If an exception occurs within the try block, the program flow is transferred to the corresponding except block. We can specify the type of exception you want to handle in the except block. Alternatively, we can use a generic except block to handle any type of exception.\n",
    "\n",
    "3. else block: We can optionally include an else block after the except block(s). The code inside the else block will execute if no exceptions occur within the try block.\n",
    "\n",
    "4. finally block: We can optionally include a finally block after the try and except block(s). The code inside the finally block always executes, regardless of whether an exception occurred or not. It is typically used for cleanup operations.\n",
    "\n",
    "\n",
    "\n",
    "\n",
    "\n"
   ]
  },
  {
   "cell_type": "markdown",
   "id": "57bbc8be",
   "metadata": {},
   "source": [
    "<b> 14. What is the purpose of the try clause? What is the purpose of the except clause?</b>"
   ]
  },
  {
   "cell_type": "markdown",
   "id": "d21b8763",
   "metadata": {},
   "source": [
    "The purpose of try and except block are as follows:\n",
    "\n",
    "try block: We enclose the code that we suspect might raise an exception within a try block.\n",
    "\n",
    "except block: If an exception occurs within the try block, the program flow is transferred to the corresponding except block. We can specify the type of exception you want to handle in the except block. Alternatively, we can use a generic except block to handle any type of exception."
   ]
  }
 ],
 "metadata": {
  "kernelspec": {
   "display_name": "Python 3 (ipykernel)",
   "language": "python",
   "name": "python3"
  },
  "language_info": {
   "codemirror_mode": {
    "name": "ipython",
    "version": 3
   },
   "file_extension": ".py",
   "mimetype": "text/x-python",
   "name": "python",
   "nbconvert_exporter": "python",
   "pygments_lexer": "ipython3",
   "version": "3.10.9"
  }
 },
 "nbformat": 4,
 "nbformat_minor": 5
}
