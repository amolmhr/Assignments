{
 "cells": [
  {
   "cell_type": "markdown",
   "id": "2e592029",
   "metadata": {},
   "source": [
    "<b> 1. In the below elements which of them are values or an expression? eg:- values can be integer or string and expressions will be mathematical operators.\n",
    "<ol>\n",
    "<li>* \n",
    "<li>'hello' \n",
    "<li>-87.8 \n",
    "<li>- \n",
    "<li>/ \n",
    "<li>+\n",
    "<li>6\n",
    "</ol>\n",
    "</b>"
   ]
  },
  {
   "cell_type": "markdown",
   "id": "464de69c",
   "metadata": {},
   "source": [
    "<h4> Solution:</h4>\n",
    "\n",
    "<ol>\n",
    "<li>*   Expression\n",
    "<li>'hello'   Values \n",
    "<li>-87.8   Values\n",
    "<li>-   Expression\n",
    "<li>/   Expression\n",
    "<li>+   Expression\n",
    "<li>6   Values\n",
    "</ol>\n",
    "\n"
   ]
  },
  {
   "cell_type": "markdown",
   "id": "14d53641",
   "metadata": {},
   "source": [
    "<b> 2. What is the difference between string and variable?</b>"
   ]
  },
  {
   "cell_type": "markdown",
   "id": "8decfd42",
   "metadata": {},
   "source": [
    "<b> Solution</b><br>\n",
    "String is the combination of alphabets,numbers & special characters which are assigned to a certain variable. String is one of the data type in python.\n",
    "\n",
    "Variable is the name given to a memory location.A variable name can only be start with _ or alphabet.\n",
    "\n",
    "String can have spaces in between. Spaces in variable is not allowed."
   ]
  },
  {
   "cell_type": "markdown",
   "id": "88b94bec",
   "metadata": {},
   "source": [
    "<b> 3. Describe three different data types. </b>"
   ]
  },
  {
   "cell_type": "markdown",
   "id": "51776088",
   "metadata": {},
   "source": [
    "In Python, there are numerous data types available. Here, I will describe three commonly used data types:\n",
    "\n",
    "1.Integer (int): The integer data type represents whole numbers without decimal points. It can be positive or negative. For example, 2, -10, and 0 are all integers.\n",
    "\n",
    "2.String (str): The string data type represents a sequence of characters enclosed in single quotes (') or double quotes (\"). Strings can contain letters, digits, symbols, and spaces. For example, \"Hello, World!\" and '12345' are strings. \n",
    "\n",
    "3.List: A list is an ordered collection of items enclosed in square brackets ([]). It can contain elements of different data types, and the elements can be modified. For example, [1, 2, 3], ['apple', 'banana', 'orange'], and [1, 'two', 3.0] are all lists."
   ]
  },
  {
   "cell_type": "markdown",
   "id": "0e3f6376",
   "metadata": {},
   "source": [
    "<b> 4. What is an expression made up of? What do all expressions do? </b>"
   ]
  },
  {
   "cell_type": "markdown",
   "id": "4138770e",
   "metadata": {},
   "source": [
    "An expression is combination of values,variable, operators and function calls.\n",
    "\n",
    " Expressions in Python are powerful tools that allow  to combine values, variables, operators, and function calls to perform calculations, comparisons, and other operations, ultimately producing a single value as the result."
   ]
  },
  {
   "cell_type": "markdown",
   "id": "8b0c8516",
   "metadata": {},
   "source": [
    "<b> 5. This assignment statements, like spam = 10. What is the difference between an expression and a statement? </b>"
   ]
  },
  {
   "cell_type": "markdown",
   "id": "53661ba9",
   "metadata": {},
   "source": [
    "In Python, expressions and statements are two distinct concepts:\n",
    "\n",
    "An expression is a combination of values, variables, operators, and function calls that can be evaluated to produce a value. It can be as simple as a single value or a complex combination of these elements.\n",
    "\n",
    "A statement is a complete line of code that performs an action or executes a command. It is a higher-level instruction that usually controls the flow of a program. \n",
    "\n",
    "In the case of an assignment statement like spam = 10, it is a statement that assigns the value 10 to the variable spam. It doesn't produce a value itself, but rather changes the state of the program by creating or modifying a variable."
   ]
  },
  {
   "cell_type": "markdown",
   "id": "a9f1ce59",
   "metadata": {},
   "source": [
    "<b>\n",
    "    <p>6. After running the following code, what does the variable bacon contain?</p>\n",
    "bacon = 22 <br>\n",
    "bacon + 1\n",
    "</b>"
   ]
  },
  {
   "cell_type": "markdown",
   "id": "a5abd347",
   "metadata": {},
   "source": [
    "<b>Solution</b><br>Looking at the code it has been found that:\n",
    " \n",
    "1. bacon =22 statement initialises the variable bacon with value 22.\n",
    "\n",
    "2. In the second line of code, value 1 is added to the value of bacon. The line will give output 23 but the value 23 is not assigned to variable bacon again.\n",
    "\n",
    "Hence, the variable Bacon will retain the value 22."
   ]
  },
  {
   "cell_type": "markdown",
   "id": "dd4b1e18",
   "metadata": {},
   "source": [
    "<b> 7. What should the values of the following two terms be? <br>\n",
    "'spam' + 'spamspam'<br>\n",
    "'spam' * 3<br>\n",
    "    </b>\n"
   ]
  },
  {
   "cell_type": "markdown",
   "id": "83191f3e",
   "metadata": {},
   "source": [
    "<b>Solution</b><br>The first line of code <b>'spam' + 'spamspam'</b>  will concatenate spam' & 'spamspam'"
   ]
  },
  {
   "cell_type": "code",
   "execution_count": 6,
   "id": "0ada5479",
   "metadata": {},
   "outputs": [
    {
     "data": {
      "text/plain": [
       "'spamspamspam'"
      ]
     },
     "execution_count": 6,
     "metadata": {},
     "output_type": "execute_result"
    }
   ],
   "source": [
    "'spam' + 'spamspam'"
   ]
  },
  {
   "cell_type": "markdown",
   "id": "1042ea26",
   "metadata": {},
   "source": [
    "The second line of code <b> 'spam' * 3</b> will multiply the string 'spam' 3 times."
   ]
  },
  {
   "cell_type": "code",
   "execution_count": 7,
   "id": "043d7900",
   "metadata": {},
   "outputs": [
    {
     "data": {
      "text/plain": [
       "'spamspamspam'"
      ]
     },
     "execution_count": 7,
     "metadata": {},
     "output_type": "execute_result"
    }
   ],
   "source": [
    "'spam' * 3"
   ]
  },
  {
   "cell_type": "markdown",
   "id": "eae8663f",
   "metadata": {},
   "source": [
    "<b> 8. Why is eggs a valid variable name while 100 is invalid?</b>"
   ]
  },
  {
   "cell_type": "markdown",
   "id": "61c9cfb9",
   "metadata": {},
   "source": [
    "<b> Solution</b><br>As per the rules for defining a variable, the variable must starts with either an alphabet or underscore(_).\n",
    "\n",
    "The variable \"eggs\" starts with alphabet e. Hence it is a valid name.\n",
    "\n",
    "The variable \"100\" is an integer and it starts with number 1. Hence it is an invalid name."
   ]
  },
  {
   "cell_type": "markdown",
   "id": "ae0201f6",
   "metadata": {},
   "source": [
    "<b> 9. What three functions can be used to get the integer, floating-point number, or string version of a value?</b>"
   ]
  },
  {
   "cell_type": "markdown",
   "id": "8f3abfea",
   "metadata": {},
   "source": [
    "The functions that can be used to  get the integer, floating-point number, or string version of a value are as follows: <br>\n",
    "\n",
    "int(value)  # To get the integer value <br>\n",
    "float(value) # to get the floating-point number <br>\n",
    "str(value) # To get the string version <br>\n",
    "\n",
    "This method is also called typecasting. The example of which is as follows:"
   ]
  },
  {
   "cell_type": "code",
   "execution_count": 10,
   "id": "befd8d78",
   "metadata": {},
   "outputs": [
    {
     "name": "stdout",
     "output_type": "stream",
     "text": [
      "The type of int_val is <class 'int'>\n",
      "The type of float_val is <class 'float'>\n",
      "The type of str_val is <class 'str'>\n"
     ]
    }
   ],
   "source": [
    "a= 100\n",
    "int_val =int(a)\n",
    "float_val =float(a)\n",
    "str_val =str(a)\n",
    "\n",
    "print (\"The type of int_val is\",type(int_val))\n",
    "print (\"The type of float_val is\",type(float_val))\n",
    "print (\"The type of str_val is\",type(str_val))"
   ]
  },
  {
   "cell_type": "markdown",
   "id": "045ceadd",
   "metadata": {},
   "source": [
    "<b> 10. Why does this expression cause an error? How can you fix it?\n",
    "'I have eaten ' + 99 + ' burritos.'\n",
    "</b>"
   ]
  },
  {
   "cell_type": "markdown",
   "id": "4d7421bb",
   "metadata": {},
   "source": [
    " The expression 'I have eaten ' + 99 + ' burritos.' when executed in python will give an error because it is trying to concatenate String with an integer which is an invalid statement in python.\n",
    " \n",
    " To rectify the issue, the integer can be typecasted by using function \"str()\".\n",
    " \n",
    " \n",
    "    \n",
    "    \n",
    "    "
   ]
  },
  {
   "cell_type": "code",
   "execution_count": 14,
   "id": "d6e29f3d",
   "metadata": {},
   "outputs": [
    {
     "ename": "TypeError",
     "evalue": "can only concatenate str (not \"int\") to str",
     "output_type": "error",
     "traceback": [
      "\u001b[1;31m---------------------------------------------------------------------------\u001b[0m",
      "\u001b[1;31mTypeError\u001b[0m                                 Traceback (most recent call last)",
      "Cell \u001b[1;32mIn[14], line 1\u001b[0m\n\u001b[1;32m----> 1\u001b[0m \u001b[38;5;124;43m'\u001b[39;49m\u001b[38;5;124;43mI have eaten \u001b[39;49m\u001b[38;5;124;43m'\u001b[39;49m\u001b[43m \u001b[49m\u001b[38;5;241;43m+\u001b[39;49m\u001b[43m \u001b[49m\u001b[38;5;241;43m99\u001b[39;49m \u001b[38;5;241m+\u001b[39m \u001b[38;5;124m'\u001b[39m\u001b[38;5;124m burritos.\u001b[39m\u001b[38;5;124m'\u001b[39m\n",
      "\u001b[1;31mTypeError\u001b[0m: can only concatenate str (not \"int\") to str"
     ]
    }
   ],
   "source": [
    "'I have eaten ' + 99 + ' burritos.'"
   ]
  },
  {
   "cell_type": "code",
   "execution_count": 15,
   "id": "c2962749",
   "metadata": {},
   "outputs": [
    {
     "data": {
      "text/plain": [
       "'I have eaten 99 burritos.'"
      ]
     },
     "execution_count": 15,
     "metadata": {},
     "output_type": "execute_result"
    }
   ],
   "source": [
    "'I have eaten ' + str(99) + ' burritos.'"
   ]
  }
 ],
 "metadata": {
  "kernelspec": {
   "display_name": "Python 3 (ipykernel)",
   "language": "python",
   "name": "python3"
  },
  "language_info": {
   "codemirror_mode": {
    "name": "ipython",
    "version": 3
   },
   "file_extension": ".py",
   "mimetype": "text/x-python",
   "name": "python",
   "nbconvert_exporter": "python",
   "pygments_lexer": "ipython3",
   "version": "3.10.9"
  }
 },
 "nbformat": 4,
 "nbformat_minor": 5
}
