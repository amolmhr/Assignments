{
 "cells": [
  {
   "cell_type": "markdown",
   "id": "2de616f1",
   "metadata": {},
   "source": [
    "<b> 1.What are the two values of the Boolean data type? How do you write them?</b>"
   ]
  },
  {
   "cell_type": "markdown",
   "id": "8698e33d",
   "metadata": {},
   "source": [
    "The Two values of Boolean Data Type are \"True\" and \"False\".\n",
    "\n",
    " It is written as the keyword True (with an uppercase 'T') and False (with an uppercase 'F').\n",
    "\n"
   ]
  },
  {
   "cell_type": "markdown",
   "id": "4272a229",
   "metadata": {},
   "source": [
    "<b>2. What are the three different types of Boolean operators? </b>"
   ]
  },
  {
   "cell_type": "markdown",
   "id": "3c3f9931",
   "metadata": {},
   "source": [
    "Three diffrent types of Boolean operators are:\n",
    "    \n",
    "1. \"and\" Operator: The \"and\" operator returns True if both operands are True, and False otherwise.\n",
    "2. \"or\" Operator: The \"or\" operator returns True if at least one of the operands is True, and False if both operands are False. It evaluates to True if any of the conditions it connects is True. \n",
    "\n",
    "3. \"not\" Operator: The \"not\" operator is a unary operator that negates the value of the operand. It returns True if the operand is False, and False if the operand is True.\n",
    "    "
   ]
  },
  {
   "cell_type": "markdown",
   "id": "4b4fe7a0",
   "metadata": {},
   "source": [
    "<b> 3. Make a list of each Boolean operator's truth tables (i.e. every possible combination of Boolean values for the operator and what it evaluate ).</b>"
   ]
  },
  {
   "cell_type": "markdown",
   "id": "17197b3f",
   "metadata": {},
   "source": [
    "1. \"and\" operator\n",
    "\n",
    "<table>\n",
    "  <tr>\n",
    "    <th>Operand 1</th>\n",
    "    <th>Operand 2</th>\n",
    "    <th>Result (and)</th>\n",
    "    \n",
    "  </tr>\n",
    "  <tr>\n",
    "    <td>True</td>\n",
    "    <td>True</td>\n",
    "    <td>True</td>\n",
    "   \n",
    "  </tr>\n",
    "  <tr>\n",
    "    <td>True</td>\n",
    "    <td>False</td>\n",
    "    <td>False</td>\n",
    "   \n",
    "  </tr>\n",
    "  <tr>\n",
    "    <td>False</td>\n",
    "    <td>True</td>\n",
    "    <td>False</td>\n",
    "  \n",
    "  </tr>\n",
    "  <tr>\n",
    "    <td>False</td>\n",
    "    <td>False</td>\n",
    "    <td>False</td>\n",
    "   \n",
    "  </tr>\n",
    "</table>\n",
    "\n",
    "\n",
    "\n",
    "\n"
   ]
  },
  {
   "cell_type": "markdown",
   "id": "6bc063fa",
   "metadata": {},
   "source": [
    "2. \"or\" operator\n",
    "\n",
    "<table>\n",
    "  <tr>\n",
    "    <th>Operand 1</th>\n",
    "    <th>Operand 2</th>\n",
    "    <th>Result (or)</th>\n",
    "    \n",
    "  </tr>\n",
    "  <tr>\n",
    "    <td>True</td>\n",
    "    <td>True</td>\n",
    "    <td>True</td>\n",
    "   \n",
    "  </tr>\n",
    "  <tr>\n",
    "    <td>True</td>\n",
    "    <td>False</td>\n",
    "    <td>True</td>\n",
    "   \n",
    "  </tr>\n",
    "  <tr>\n",
    "    <td>False</td>\n",
    "    <td>True</td>\n",
    "    <td>True</td>\n",
    "  \n",
    "  </tr>\n",
    "  <tr>\n",
    "    <td>False</td>\n",
    "    <td>False</td>\n",
    "    <td>False</td>\n",
    "   \n",
    "  </tr>\n",
    "</table>\n"
   ]
  },
  {
   "cell_type": "markdown",
   "id": "e72d774b",
   "metadata": {},
   "source": [
    "3.\"not\" operator\n",
    "\n",
    "<table>\n",
    "  <tr>\n",
    "    <th>Operand</th>\n",
    "    <th>Result (not)</th>\n",
    "  </tr>\n",
    "  <tr>\n",
    "    <td>True</td>\n",
    "    <td>False</td>\n",
    "  </tr>\n",
    "  <tr>\n",
    "    <td>False</td>\n",
    "    <td>True</td>\n",
    "  </tr>\n",
    "</table>\n",
    "\n"
   ]
  },
  {
   "cell_type": "markdown",
   "id": "87264169",
   "metadata": {},
   "source": [
    "<b><p>\n",
    "4. What are the values of the following expressions?\n",
    "</p>\n",
    "<p>\n",
    "(5 &gt; 4) and (3 == 5)<br>\n",
    "not (5 &gt; 4)<br>\n",
    "(5 &gt; 4) or (3 == 5)<br>\n",
    "not ((5 &gt; 4) or (3 == 5))<br>\n",
    "(True and True) and (True == False)<br>\n",
    "(not False) or (not True)\n",
    "</p></b>"
   ]
  },
  {
   "cell_type": "markdown",
   "id": "792fea7b",
   "metadata": {},
   "source": [
    "1. (5 > 4) and (3 == 5) False <br>\n",
    "\n",
    "2. not (5 > 4) False <br>\n",
    "\n",
    "3. (5 > 4) or (3 == 5) True <br>\n",
    "\n",
    "4. not ((5 > 4) or (3 == 5)) False <br>\n",
    "\n",
    "5. (True and True) and (True == False) False<br>\n",
    "\n",
    "6. (not False) or (not True) True <br>\n",
    "\n"
   ]
  },
  {
   "cell_type": "markdown",
   "id": "5996a51d",
   "metadata": {},
   "source": [
    "<b> 5. What are the six comparison operators?</b>"
   ]
  },
  {
   "cell_type": "markdown",
   "id": "1d57980d",
   "metadata": {},
   "source": [
    "The six comparison operators are as follows: <br>\n",
    "\n",
    "1.Equal to (==): Checks if the values on both sides of the operator are equal.<br>\n",
    "2.Not equal to (!=): Checks if the values on both sides of the operator are not equal.<br>\n",
    "3.Greater than (>): Checks if the value on the left side is greater than the value on the right side.<br>\n",
    "4.Less than (<): Checks if the value on the left side is less than the value on the right side.<br>\n",
    "5.Greater than or equal to (>=): Checks if the value on the left side is greater than or equal to the value on the right side.<br>\n",
    "5.Less than or equal to (<=): Checks if the value on the left side is less than or equal to the value on the right side.<br>"
   ]
  },
  {
   "cell_type": "markdown",
   "id": "a584594f",
   "metadata": {},
   "source": [
    "<b> 6. How do you tell the difference between the equal to and assignment operators?Describe a condition and when you would use one.</b>"
   ]
  },
  {
   "cell_type": "markdown",
   "id": "4b0d861a",
   "metadata": {},
   "source": [
    "The equal to operator is defined by double equal symbol i.e. '==' and the assignment operator is defined by single equal symbol i.e. \"=\".\n",
    "\n",
    "The assignment operator is used to assign a value to the variable and the equal to operator is used to compare if the value on both side of operator are equal or not.\n",
    "\n",
    "We can understand the use of both by taking an example:\n",
    "\n",
    "\n",
    "    \n"
   ]
  },
  {
   "cell_type": "code",
   "execution_count": 11,
   "id": "4dd92c9c",
   "metadata": {},
   "outputs": [
    {
     "name": "stdout",
     "output_type": "stream",
     "text": [
      "The number of apples are 10\n"
     ]
    }
   ],
   "source": [
    "apples = 10\n",
    "if (apples==10):\n",
    "    print(\"The number of apples are 10\")"
   ]
  },
  {
   "cell_type": "markdown",
   "id": "a22871fa",
   "metadata": {},
   "source": [
    "Here, in the first line of code the value 10 is assigned to the variable \"apples\". So, it uses single \"=\" symbol.<br>\n",
    "\n",
    "In the second line of code,apples and the value 10 needs to be compared to check the condition, so it uses \"==\" symbol."
   ]
  },
  {
   "cell_type": "markdown",
   "id": "fbadc954",
   "metadata": {},
   "source": [
    "<p><b> 7. Identify the three blocks in this code:</b></p>\n",
    "spam = 0 <br>\n",
    "if spam == 10:<br>\n",
    "print('eggs')<br>\n",
    "if spam > 5:<br>\n",
    "print('bacon')<br>\n",
    "else:<br>\n",
    "print('ham')<br>\n",
    "print('spam')<br>\n",
    "print('spam')<br>\n"
   ]
  },
  {
   "cell_type": "markdown",
   "id": "e2e62551",
   "metadata": {},
   "source": [
    " The three blocks in the code based on indentation are:"
   ]
  },
  {
   "cell_type": "code",
   "execution_count": 14,
   "id": "0adda864",
   "metadata": {},
   "outputs": [
    {
     "name": "stdout",
     "output_type": "stream",
     "text": [
      "ham\n",
      "spam\n",
      "spam\n"
     ]
    }
   ],
   "source": [
    "# Block 1\n",
    "\n",
    "spam = 0\n",
    "if spam == 10:\n",
    "    print('eggs')\n",
    "\n",
    "# Block 2\n",
    "\n",
    "if spam > 5:\n",
    "    print('bacon')\n",
    "else:\n",
    "    print('ham')\n",
    "    \n",
    "# Block 3\n",
    "\n",
    "print('spam')\n",
    "print('spam')"
   ]
  },
  {
   "cell_type": "markdown",
   "id": "044d841f",
   "metadata": {},
   "source": [
    "<b> 8. Write code that prints Hello if 1 is stored in spam, prints Howdy if 2 is stored in spam, and prints Greetings! if anything else is stored in spam. </b>"
   ]
  },
  {
   "cell_type": "code",
   "execution_count": 17,
   "id": "ec1e8129",
   "metadata": {},
   "outputs": [
    {
     "name": "stdout",
     "output_type": "stream",
     "text": [
      "Greetings!\n"
     ]
    }
   ],
   "source": [
    "spam = 3\n",
    "\n",
    "\n",
    "if (spam==1):\n",
    "    print(\"Hello\")\n",
    "\n",
    "elif(spam==2):\n",
    "    print(\"Howdy\")\n",
    "    \n",
    "else:\n",
    "    print(\"Greetings!\")\n"
   ]
  },
  {
   "cell_type": "markdown",
   "id": "90b85c90",
   "metadata": {},
   "source": [
    "<b>9.If your programme is stuck in an endless loop, what keys you’ll press?</b>"
   ]
  },
  {
   "cell_type": "markdown",
   "id": "29bc45e0",
   "metadata": {},
   "source": [
    "If your program is stuck in an endless loop and you want to interrupt or stop its execution, you can typically use the following key combination based on your operating system and development environment:<br>\n",
    "\n",
    "Windows: Press Ctrl + C on your keyboard.<br>\n",
    "Mac: Press Command + . (period) on your keyboard.<br>\n",
    "Linux: Press Ctrl + C on your keyboard.<br>"
   ]
  },
  {
   "cell_type": "markdown",
   "id": "ed0dc09f",
   "metadata": {},
   "source": [
    "<b> 10. How can you tell the difference between break and continue?</b>"
   ]
  },
  {
   "cell_type": "markdown",
   "id": "fd15486e",
   "metadata": {},
   "source": [
    "The break function is used to break a loop and stop executing the code written inside the loop when the defined condition is met.<br>\n",
    "The continue function is used to continue a loop without executing the code written after the continue keyword inside the loop when the defined condition is met.\n",
    "\n",
    "The break and conintue functions can better be explained withe the following example:"
   ]
  },
  {
   "cell_type": "code",
   "execution_count": 8,
   "id": "0c618ea1",
   "metadata": {},
   "outputs": [
    {
     "name": "stdout",
     "output_type": "stream",
     "text": [
      "1\n",
      "2\n",
      "3\n",
      "4\n"
     ]
    }
   ],
   "source": [
    "for count in range(1,10): # Loop to print values in range 1 to 10\n",
    "    \n",
    "    if count==5:          # Check condition if the count = 5\n",
    "        break             # Break the loop if the condition is met\n",
    "    print(count)          # Print the value of count"
   ]
  },
  {
   "cell_type": "code",
   "execution_count": 7,
   "id": "086653fa",
   "metadata": {},
   "outputs": [
    {
     "name": "stdout",
     "output_type": "stream",
     "text": [
      "1\n",
      "2\n",
      "3\n",
      "4\n",
      "6\n",
      "7\n",
      "8\n",
      "9\n"
     ]
    }
   ],
   "source": [
    "for count in range(1,10): # Loop to print values in range 1 to 10\n",
    "    \n",
    "    if count==5:          # Check condition if the count = 5\n",
    "        continue          # Coninue the loop and skip the code written afterwards inside the loop\n",
    "    print(count)          # Print the value of count"
   ]
  },
  {
   "cell_type": "markdown",
   "id": "146f013d",
   "metadata": {},
   "source": [
    "In the first example the break command stopped the loop when count becomes equals to 5 and the value printed is from 1 to 4.\n",
    "In the second example the continue command skipped the printing of value 5 when count becomes equal to 5.So it printed all values except 5. "
   ]
  },
  {
   "cell_type": "markdown",
   "id": "f32ac9db",
   "metadata": {},
   "source": [
    "<b> 11. In a for loop, what is the difference between range(10), range(0, 10), and range(0, 10, 1)?</b>"
   ]
  },
  {
   "cell_type": "markdown",
   "id": "aa57e89b",
   "metadata": {},
   "source": [
    "The diffrence can be easily understood when we run the code in Python."
   ]
  },
  {
   "cell_type": "code",
   "execution_count": 11,
   "id": "d137e57f",
   "metadata": {},
   "outputs": [
    {
     "name": "stdout",
     "output_type": "stream",
     "text": [
      "0\n",
      "1\n",
      "2\n",
      "3\n",
      "4\n",
      "5\n",
      "6\n",
      "7\n",
      "8\n",
      "9\n"
     ]
    }
   ],
   "source": [
    "for r in range(10):\n",
    "    print(r)"
   ]
  },
  {
   "cell_type": "markdown",
   "id": "6de19e30",
   "metadata": {},
   "source": [
    "For range(10) the counter starts from zero & ends upto 9."
   ]
  },
  {
   "cell_type": "code",
   "execution_count": 12,
   "id": "5ce489c1",
   "metadata": {},
   "outputs": [
    {
     "name": "stdout",
     "output_type": "stream",
     "text": [
      "0\n",
      "1\n",
      "2\n",
      "3\n",
      "4\n",
      "5\n",
      "6\n",
      "7\n",
      "8\n",
      "9\n"
     ]
    }
   ],
   "source": [
    "for r in range(0,10):\n",
    "    print(r)"
   ]
  },
  {
   "cell_type": "markdown",
   "id": "ef719c3b",
   "metadata": {},
   "source": [
    "When we are defining range(0,10), it is representing the first value and the last value upto which the counter ends. Instead of 0 if any other value is provided the counter would have been started from that value only."
   ]
  },
  {
   "cell_type": "code",
   "execution_count": 13,
   "id": "d3e3c42d",
   "metadata": {},
   "outputs": [
    {
     "name": "stdout",
     "output_type": "stream",
     "text": [
      "0\n",
      "1\n",
      "2\n",
      "3\n",
      "4\n",
      "5\n",
      "6\n",
      "7\n",
      "8\n",
      "9\n"
     ]
    }
   ],
   "source": [
    "for r in range(0,10,1):\n",
    "    print(r)"
   ]
  },
  {
   "cell_type": "markdown",
   "id": "915e2520",
   "metadata": {},
   "source": [
    "When we are defining range(0,10,1), it is representing the first value , last value upto which the counter ends and the step size of the counter.Since, the step size is 1 the o/p will remain same."
   ]
  },
  {
   "cell_type": "markdown",
   "id": "3b545856",
   "metadata": {},
   "source": [
    "<b> 12. Write a short program that prints the numbers 1 to 10 using a for loop. Then write an equivalent program that prints the numbers 1 to 10 using a while loop.</b>"
   ]
  },
  {
   "cell_type": "code",
   "execution_count": 15,
   "id": "f6035f5a",
   "metadata": {},
   "outputs": [
    {
     "name": "stdout",
     "output_type": "stream",
     "text": [
      "1\n",
      "2\n",
      "3\n",
      "4\n",
      "5\n",
      "6\n",
      "7\n",
      "8\n",
      "9\n",
      "10\n"
     ]
    }
   ],
   "source": [
    "for r in range(1,11):\n",
    "    print(r)\n",
    "    "
   ]
  },
  {
   "cell_type": "code",
   "execution_count": 17,
   "id": "d577af33",
   "metadata": {},
   "outputs": [
    {
     "name": "stdout",
     "output_type": "stream",
     "text": [
      "1\n",
      "2\n",
      "3\n",
      "4\n",
      "5\n",
      "6\n",
      "7\n",
      "8\n",
      "9\n",
      "10\n"
     ]
    }
   ],
   "source": [
    "i=1\n",
    "while(i<=10):\n",
    "    print(i)\n",
    "    i=i+1"
   ]
  },
  {
   "cell_type": "markdown",
   "id": "e5fd211a",
   "metadata": {},
   "source": [
    "<b> 13. If you had a function named bacon() inside a module named spam, how would you call it after importing spam?</b>"
   ]
  },
  {
   "cell_type": "markdown",
   "id": "93325958",
   "metadata": {},
   "source": [
    "The module spam can be imported by command:<br>\n",
    " import spam as sp\n",
    " \n",
    "The function bacon() can be called by the command:<br>\n",
    " sp.bacon()"
   ]
  }
 ],
 "metadata": {
  "kernelspec": {
   "display_name": "Python 3 (ipykernel)",
   "language": "python",
   "name": "python3"
  },
  "language_info": {
   "codemirror_mode": {
    "name": "ipython",
    "version": 3
   },
   "file_extension": ".py",
   "mimetype": "text/x-python",
   "name": "python",
   "nbconvert_exporter": "python",
   "pygments_lexer": "ipython3",
   "version": "3.10.9"
  }
 },
 "nbformat": 4,
 "nbformat_minor": 5
}
