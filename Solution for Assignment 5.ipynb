{
 "cells": [
  {
   "cell_type": "markdown",
   "id": "b096dd09",
   "metadata": {},
   "source": [
    "<b> 1. What does an empty dictionary's code look like? </b>"
   ]
  },
  {
   "cell_type": "markdown",
   "id": "2b98c586",
   "metadata": {},
   "source": [
    "The dictionary is represented by {} curly braces.The syntax for empty dictionary is:<br>\n",
    "\n",
    "my_dict = {}"
   ]
  },
  {
   "cell_type": "markdown",
   "id": "f11b620c",
   "metadata": {},
   "source": [
    "<b> 2. What is the value of a dictionary value with the key 'foo' and the value 42? </b>"
   ]
  },
  {
   "cell_type": "markdown",
   "id": "2624938d",
   "metadata": {},
   "source": [
    "A dictionary with key 'foo' and value 42 can be defined as:"
   ]
  },
  {
   "cell_type": "code",
   "execution_count": 1,
   "id": "a0f36a29",
   "metadata": {},
   "outputs": [],
   "source": [
    "my_dict = {'foo':42}"
   ]
  },
  {
   "cell_type": "markdown",
   "id": "1eb626a9",
   "metadata": {},
   "source": [
    "The value for the key 'foo' can be called by below syntax and it will give the result 42."
   ]
  },
  {
   "cell_type": "code",
   "execution_count": 3,
   "id": "09154431",
   "metadata": {},
   "outputs": [
    {
     "data": {
      "text/plain": [
       "42"
      ]
     },
     "execution_count": 3,
     "metadata": {},
     "output_type": "execute_result"
    }
   ],
   "source": [
    "my_dict[\"foo\"] # Result 42"
   ]
  },
  {
   "cell_type": "markdown",
   "id": "3aa64dfe",
   "metadata": {},
   "source": [
    "<b> 3. What is the most significant distinction between a dictionary and a list? </b>"
   ]
  },
  {
   "cell_type": "markdown",
   "id": "0c81a069",
   "metadata": {},
   "source": [
    "The most significant distinction between a dictionary and a list is that a list is an ordered collection of elements whereas a dictionary is an unordered collection of keys-value pairs."
   ]
  },
  {
   "cell_type": "markdown",
   "id": "be513c0d",
   "metadata": {},
   "source": [
    "<b> 4. What happens if you try to access spam['foo'] if spam is {'bar': 100}? </b>"
   ]
  },
  {
   "cell_type": "markdown",
   "id": "b1fe93b4",
   "metadata": {},
   "source": [
    "If we try to access spam['foo'] which is not defined in the statement.\n"
   ]
  },
  {
   "cell_type": "code",
   "execution_count": 6,
   "id": "a420e08b",
   "metadata": {},
   "outputs": [],
   "source": [
    "spam = {'bar': 100}"
   ]
  },
  {
   "cell_type": "markdown",
   "id": "b92f57e5",
   "metadata": {},
   "source": [
    "The key error will generate as the mentioned key is not available in the code."
   ]
  },
  {
   "cell_type": "markdown",
   "id": "f31c619f",
   "metadata": {},
   "source": [
    "<b> 5. If a dictionary is stored in spam, what is the difference between the expressions 'cat' in spam and 'cat' in spam.keys()?</b>"
   ]
  },
  {
   "cell_type": "markdown",
   "id": "4761370f",
   "metadata": {},
   "source": [
    "The expressions 'cat' in spam and 'cat' in spam.keys() have different meanings when applied to a dictionary stored in the variable 'spam'.<br>\n",
    "\n",
    "'cat' in spam: This expression will check whether key 'cat' is present in spam or not.The output will be boolean either True or False.It searches for the key directly within the dictionary.\n",
    "\n",
    "'cat' in spam.keys(): This expression checks whether the string 'cat' exists as a key in the dictionary 'spam'. It retrieves all the keys of the dictionary using the spam.keys() method and then checks if the string 'cat' is present among those keys. It also returns a boolean value."
   ]
  },
  {
   "cell_type": "markdown",
   "id": "263fb2e4",
   "metadata": {},
   "source": [
    "<b> 6. If a dictionary is stored in spam, what is the difference between the expressions 'cat' in spam and 'cat' in spam.values()?</b>"
   ]
  },
  {
   "cell_type": "markdown",
   "id": "34673bfe",
   "metadata": {},
   "source": [
    "'cat' in spam :  This expression will check whether key 'cat' is present in spam or not.The output will be boolean either True or False.It searches for the key directly within the dictionary.\n",
    "\n",
    "'cat' in spam.values() : This expression will check whether the value 'cat' is present in all the values present in the dictionary spam or not. It will give the output accordingly either True or False.\n"
   ]
  },
  {
   "cell_type": "markdown",
   "id": "16e2cf60",
   "metadata": {},
   "source": [
    "<b>7. What is a shortcut for the following code?<br>\n",
    "if 'color' not in spam:<br>\n",
    "spam['color'] = 'black'\n",
    "</b>\n"
   ]
  },
  {
   "cell_type": "markdown",
   "id": "7e72d2b6",
   "metadata": {},
   "source": [
    "One possible shortcut for the given code is to use the setdefault() method of the dict object. The setdefault() method sets the value of a key in a dictionary if the key is not already present, and returns the value of the key. Here's how we can use it to achieve the same result:\n",
    "\n",
    "spam.setdefault('color', 'black')"
   ]
  },
  {
   "cell_type": "markdown",
   "id": "bad10dcb",
   "metadata": {},
   "source": [
    "<b> 8. How do you \"pretty print\" dictionary values using which module and function?</b>"
   ]
  },
  {
   "cell_type": "markdown",
   "id": "d66b2df4",
   "metadata": {},
   "source": [
    "To \"pretty print\" dictionary values in Python, we can use the pprint module, specifically the pprint() function. The pprint module provides a way to format and display data structures in a more readable and organized manner."
   ]
  },
  {
   "cell_type": "code",
   "execution_count": 2,
   "id": "aa8cef58",
   "metadata": {},
   "outputs": [
    {
     "name": "stdout",
     "output_type": "stream",
     "text": [
      "{'age': 25, 'city': 'New York', 'name': 'John'}\n"
     ]
    }
   ],
   "source": [
    "import pprint\n",
    "\n",
    "my_dict = {'name': 'John', 'age': 25, 'city': 'New York'}\n",
    "\n",
    "pprint.pprint(my_dict)"
   ]
  }
 ],
 "metadata": {
  "kernelspec": {
   "display_name": "Python 3 (ipykernel)",
   "language": "python",
   "name": "python3"
  },
  "language_info": {
   "codemirror_mode": {
    "name": "ipython",
    "version": 3
   },
   "file_extension": ".py",
   "mimetype": "text/x-python",
   "name": "python",
   "nbconvert_exporter": "python",
   "pygments_lexer": "ipython3",
   "version": "3.10.9"
  }
 },
 "nbformat": 4,
 "nbformat_minor": 5
}
