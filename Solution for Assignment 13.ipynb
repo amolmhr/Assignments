{
 "cells": [
  {
   "cell_type": "markdown",
   "id": "02c0b55b",
   "metadata": {},
   "source": [
    "<b> 1. Explain what inheritance is in object-oriented programming and why it is used.</b>"
   ]
  },
  {
   "cell_type": "markdown",
   "id": "ad2bf1e2",
   "metadata": {},
   "source": [
    " In object-oriented programming (OOP), inheritance is a fundamental concept that allows one class (called the \"subclass\" or \"derived class\") to inherit properties and behaviors from another class (called the \"superclass\" or \"base class\"). Inheritance enables the creation of a hierarchy of classes, where a subclass can reuse and extend the attributes and methods of its superclass. Here's an explanation of inheritance and its purposes:\n",
    "\n",
    "1. **Reuse of Code**: Inheritance promotes code reuse by allowing you to define common attributes and methods in a base class. Subclasses can then inherit these attributes and methods, reducing redundancy in your code. This makes code maintenance easier because you only need to update the base class when changes are required, and those changes automatically apply to all subclasses.\n",
    "\n",
    "2. **Extensibility**: Subclasses can extend or modify the behavior of their superclass. They can add new attributes and methods, override existing methods, or provide their own implementations of inherited methods. This allows you to create specialized versions of a class without starting from scratch, thus saving development time.\n",
    "\n",
    "3. **Polymorphism**: Inheritance is closely related to polymorphism, another OOP concept. Polymorphism allows objects of different classes to be treated as objects of a common base class. This facilitates writing more generic code that can work with objects of different types but sharing a common interface.\n",
    "\n",
    "4. **Organizing Code**: Inheritance helps in structuring your code logically. You can group related classes under a common superclass, creating a clear and organized class hierarchy. This makes it easier to understand and maintain the codebase.\n",
    "\n",
    "Here's a simple example in Python to illustrate inheritance:\n",
    "\n",
    "```python\n",
    "class Animal:\n",
    "    def __init__(self, name):\n",
    "        self.name = name\n",
    "\n",
    "    def speak(self):\n",
    "        pass\n",
    "\n",
    "class Dog(Animal):\n",
    "    def speak(self):\n",
    "        return f\"{self.name} says Woof!\"\n",
    "\n",
    "class Cat(Animal):\n",
    "    def speak(self):\n",
    "        return f\"{self.name} says Meow!\"\n",
    "\n",
    "dog = Dog(\"Buddy\")\n",
    "cat = Cat(\"Whiskers\")\n",
    "\n",
    "print(dog.speak())  # Output: Buddy says Woof!\n",
    "print(cat.speak())  # Output: Whiskers says Meow!\n",
    "```\n",
    "\n",
    "In this example, `Animal` is the base class, and `Dog` and `Cat` are subclasses that inherit from `Animal`. They provide their own implementations of the `speak` method, demonstrating the extensibility and specialization aspects of inheritance."
   ]
  },
  {
   "cell_type": "markdown",
   "id": "fec95767",
   "metadata": {},
   "source": [
    "<b>2. Discuss the concept of single inheritance and multiple inheritance, highlighting their\n",
    "differences and advantages.</b>"
   ]
  },
  {
   "cell_type": "markdown",
   "id": "3d8c58f4",
   "metadata": {},
   "source": [
    "In object-oriented programming, inheritance can be categorized into two main types: single inheritance and multiple inheritance. These concepts differ in how classes inherit from other classes and have their own advantages and considerations.\n",
    "\n",
    "**Single Inheritance:**\n",
    "- **Definition:** In single inheritance, a subclass can inherit from only one superclass. This means that each class in the hierarchy has a single parent class.\n",
    "- **Advantages:**\n",
    "  1. **Simplicity:** Single inheritance is straightforward and easier to understand. It results in a linear class hierarchy, which can be less complex.\n",
    "  2. **Avoids Diamond Problem:** Single inheritance avoids a common issue known as the \"diamond problem,\" which can occur in multiple inheritance (explained below). The diamond problem arises when a class inherits from two or more classes that have a common ancestor, causing ambiguity in method or attribute resolution.\n",
    "\n",
    "**Multiple Inheritance:**\n",
    "- **Definition:** In multiple inheritance, a subclass can inherit from multiple superclasses or parent classes. This means that a class can have multiple ancestors in its class hierarchy.\n",
    "- **Advantages:**\n",
    "  1. **Reusability:** Multiple inheritance allows for a high degree of code reuse since a class can inherit attributes and behaviors from multiple sources. This can lead to more efficient and modular code development.\n",
    "  2. **Modeling Complex Relationships:** It enables the modeling of complex relationships and structures more accurately. For example, in a graphics library, you might have classes for both \"Shape\" and \"Color,\" and a class like \"ColoredShape\" could inherit from both to represent shapes with colors.\n",
    "\n",
    "**Differences:**\n",
    "1. **Number of Superclasses:** The primary difference between single and multiple inheritance is the number of superclasses a subclass can inherit from. Single inheritance allows only one parent class, while multiple inheritance allows multiple parent classes.\n",
    "\n",
    "2. **Complexity:** Multiple inheritance can lead to more complex class hierarchies and can make code harder to understand and maintain if not used judiciously. In contrast, single inheritance tends to result in simpler and more linear class hierarchies.\n",
    "\n",
    "3. **Diamond Problem:** The diamond problem is a potential issue in multiple inheritance, where ambiguity can arise if a class inherits from two or more classes that have a common ancestor. This ambiguity requires careful handling, often through method resolution rules or virtual inheritance mechanisms, which can add complexity to the code.\n",
    "\n"
   ]
  },
  {
   "cell_type": "markdown",
   "id": "e1393241",
   "metadata": {},
   "source": [
    "<b> 3. Explain the terms \"base class\" and \"derived class\" in the context of inheritance.</b>"
   ]
  },
  {
   "cell_type": "markdown",
   "id": "cd882c29",
   "metadata": {},
   "source": [
    "In the context of inheritance in object-oriented programming, the terms \"base class\" and \"derived class\" refer to the two key classes involved in an inheritance relationship. These terms are used to describe the roles and positions of classes within a hierarchy.\n",
    "\n",
    "1. **Base Class (Superclass or Parent Class):**\n",
    "   - A base class is the class that provides a set of common attributes and methods that can be inherited by other classes.\n",
    "   - It serves as the starting point or foundation for creating more specialized classes.\n",
    "   - Base classes are often designed to be generic and can be thought of as templates for creating derived classes.\n",
    "   - Base classes are not meant to be instantiated on their own but rather serve as a blueprint for creating objects of derived classes.\n",
    "   - In terms of the \"is-a\" relationship, a base class represents a more general category or type, while derived classes represent more specific or specialized types.\n",
    "\n",
    "2. **Derived Class (Subclass or Child Class):**\n",
    "   - A derived class is a class that inherits attributes and methods from a base class.\n",
    "   - It extends or specializes the functionality of the base class by adding new attributes, methods, or by overriding existing methods.\n",
    "   - Derived classes can have their own unique characteristics and behaviors in addition to what they inherit from the base class.\n",
    "   - Instances of derived classes can be created and used independently, inheriting the features of both the base class and any additional features introduced in the derived class.\n",
    "   - In the \"is-a\" relationship, a derived class represents a more specific category or type that \"is a kind of\" the base class.\n",
    "\n",
    "Here's a simple example in Python to illustrate the concept of a base class and a derived class:\n",
    "\n",
    "```python\n",
    "# Base Class\n",
    "class Animal:\n",
    "    def __init__(self, name):\n",
    "        self.name = name\n",
    "\n",
    "    def speak(self):\n",
    "        pass\n",
    "\n",
    "# Derived Class\n",
    "class Dog(Animal):\n",
    "    def speak(self):\n",
    "        return f\"{self.name} says Woof!\"\n",
    "\n",
    "# Creating instances of derived class\n",
    "dog = Dog(\"Buddy\")\n",
    "print(dog.speak())  # Output: Buddy says Woof!\n",
    "```\n",
    "\n",
    "In this example, `Animal` is the base class, and `Dog` is the derived class. `Dog` inherits the `__init__` constructor and `speak` method from the `Animal` class. It also provides its own implementation of the `speak` method to specialize the behavior for dogs. Instances of the `Dog` class have access to both the inherited methods and the specific method of the derived class."
   ]
  },
  {
   "cell_type": "markdown",
   "id": "4733385d",
   "metadata": {},
   "source": [
    "<b> 4. What is the significance of the \"protected\" access modifier in inheritance? How does\n",
    "it differ from \"private\" and \"public\" modifiers?</b>"
   ]
  },
  {
   "cell_type": "markdown",
   "id": "58ab9c5f",
   "metadata": {},
   "source": [
    "In object-oriented programming, access modifiers (also known as access specifiers) are used to control the visibility and accessibility of class members (attributes and methods) within a class hierarchy. There are typically three main access modifiers: \"public,\" \"protected,\" and \"private.\" The significance of the \"protected\" access modifier in inheritance lies in its level of visibility and how it differs from \"private\" and \"public\" modifiers:\n",
    "\n",
    "1. **Public Access Modifier:**\n",
    "   - Members declared as \"public\" are accessible from anywhere, both within the class and from external code (outside the class).\n",
    "   - There are no restrictions on accessing public members, and they can be accessed by instances of the class and other classes.\n",
    "\n",
    "2. **Private Access Modifier:**\n",
    "   - Members declared as \"private\" are not accessible from outside the class in which they are defined.\n",
    "   - Private members are restricted to the class in which they are declared and cannot be accessed by instances of the class or any derived classes.\n",
    "\n",
    "3. **Protected Access Modifier:**\n",
    "   - Members declared as \"protected\" have a level of visibility that falls between public and private.\n",
    "   - Protected members are accessible within the class in which they are defined, and they are also accessible by derived classes (subclasses) that inherit from the class.\n",
    "   - However, protected members are not directly accessible from external code outside the class hierarchy.\n",
    "\n",
    "**Key Differences:**\n",
    "\n",
    "- **Public vs. Protected:** Public members are accessible from anywhere, including external code, while protected members are accessible only within the class hierarchy (inside the class and by derived classes).\n",
    "\n",
    "- **Protected vs. Private:** Protected members can be accessed by derived classes, making them suitable for sharing data and behavior with subclasses, whereas private members are entirely encapsulated within the defining class.\n",
    "\n",
    "**Significance of \"Protected\" in Inheritance:**\n",
    "The \"protected\" access modifier is particularly significant in the context of inheritance because it allows for controlled sharing of class members with derived classes. This enables the following:\n",
    "\n",
    "1. **Inheritance of Behavior:** Derived classes can inherit and use protected methods and attributes from their base class to reuse and extend functionality.\n",
    "\n",
    "2. **Specialization:** Derived classes can specialize or customize the behavior of protected methods by overriding them while still benefiting from the shared implementation.\n",
    "\n",
    "3. **Data Sharing:** Protected attributes can be accessed by derived classes, allowing them to work with and modify inherited data as needed.\n",
    "\n",
    "Here's an example in Python to illustrate the use of protected members in inheritance:\n",
    "\n",
    "```python\n",
    "class Base:\n",
    "    def __init__(self):\n",
    "        self._protected_var = 42\n",
    "\n",
    "    def _protected_method(self):\n",
    "        return \"This is a protected method.\"\n",
    "\n",
    "class Derived(Base):\n",
    "    def access_protected(self):\n",
    "        return f\"Accessing protected variable: {self._protected_var}\"\n",
    "\n",
    "    def call_protected_method(self):\n",
    "        return self._protected_method()\n",
    "\n",
    "derived_obj = Derived()\n",
    "\n",
    "# Accessing protected variable and method from a derived class\n",
    "print(derived_obj.access_protected())  # Output: Accessing protected variable: 42\n",
    "print(derived_obj.call_protected_method())  # Output: This is a protected method.\n",
    "```\n",
    "\n",
    "In this example, the `_protected_var` and `_protected_method` are marked as protected and can be accessed and used within the `Derived` class, which inherits from the `Base` class. However, they are not directly accessible from external code outside the class hierarchy."
   ]
  },
  {
   "cell_type": "markdown",
   "id": "6db8642e",
   "metadata": {},
   "source": [
    "<b>5. What is the purpose of the \"super\" keyword in inheritance? Provide an example.</b>"
   ]
  },
  {
   "cell_type": "markdown",
   "id": "4f443b66",
   "metadata": {},
   "source": [
    "The \"super\" keyword in object-oriented programming is used to access and call methods or constructors from the parent class (superclass or base class) within a subclass (derived class). It allows you to invoke the superclass's implementation of a method or constructor, providing a way to extend or override behavior while still using the parent class's functionality. The \"super\" keyword is particularly useful when you want to add or modify functionality in the derived class while preserving or building upon the behavior of the parent class.\n",
    "\n",
    "The primary purposes of the \"super\" keyword in inheritance are as follows:\n",
    "\n",
    "1. **Call Parent Class's Constructor:** It allows you to call the constructor of the parent class from the constructor of the derived class. This is useful when you want to perform some initialization that is common to both the parent and derived classes.\n",
    "\n",
    "2. **Call Parent Class's Method:** It enables you to invoke a method from the parent class within the derived class, either to reuse the parent class's implementation or as part of the overridden method in the derived class.\n",
    "\n",
    "Here's an example in Python that demonstrates the use of the \"super\" keyword:\n",
    "\n",
    "```python\n",
    "class Animal:\n",
    "    def __init__(self, name):\n",
    "        self.name = name\n",
    "\n",
    "    def speak(self):\n",
    "        return \"Some generic sound\"\n",
    "\n",
    "class Dog(Animal):\n",
    "    def __init__(self, name, breed):\n",
    "        # Call the constructor of the parent class (Animal)\n",
    "        super().__init__(name)\n",
    "        self.breed = breed\n",
    "\n",
    "    def speak(self):\n",
    "        # Call the speak method of the parent class (Animal)\n",
    "        parent_sound = super().speak()\n",
    "        return f\"{self.name} (a {self.breed} dog) says {parent_sound}\"\n",
    "\n",
    "# Create an instance of the Dog class\n",
    "dog = Dog(\"Buddy\", \"Golden Retriever\")\n",
    "\n",
    "# Call the speak method of the Dog class\n",
    "print(dog.speak())  # Output: Buddy (a Golden Retriever dog) says Some generic sound\n",
    "```\n",
    "\n",
    "In this example, the `Dog` class inherits from the `Animal` class. In the `Dog` class constructor, the \"super\" keyword is used to call the constructor of the parent class (`Animal`). Similarly, in the `speak` method of the `Dog` class, the \"super\" keyword is used to invoke the `speak` method of the parent class (`Animal`). This allows the `Dog` class to extend and customize its behavior while reusing and building upon the functionality of the `Animal` class."
   ]
  },
  {
   "cell_type": "markdown",
   "id": "9e28432f",
   "metadata": {},
   "source": [
    "<b> 6. Create a base class called \"Vehicle\" with attributes like \"make\", \"model\", and \"year\".\n",
    "Then, create a derived class called \"Car\" that inherits from \"Vehicle\" and adds an\n",
    "attribute called \"fuel_type\". Implement appropriate methods in both classes.</b>"
   ]
  },
  {
   "cell_type": "code",
   "execution_count": 2,
   "id": "f8bd08ea",
   "metadata": {},
   "outputs": [
    {
     "name": "stdout",
     "output_type": "stream",
     "text": [
      "2022 Toyota Camry, Fuel Type: Gasoline\n"
     ]
    }
   ],
   "source": [
    "class Vehicle:\n",
    "    def __init__(self, make, model, year):\n",
    "        self.make = make\n",
    "        self.model = model\n",
    "        self.year = year\n",
    "\n",
    "    def display_info(self):\n",
    "        return f\"{self.year} {self.make} {self.model}\"\n",
    "\n",
    "class Car(Vehicle):\n",
    "    def __init__(self, make, model, year, fuel_type):\n",
    "        # Call the constructor of the base class (Vehicle)\n",
    "        super().__init__(make, model, year)\n",
    "        self.fuel_type = fuel_type\n",
    "\n",
    "    def display_info(self):\n",
    "        # Override the display_info method to include fuel type\n",
    "        vehicle_info = super().display_info()\n",
    "        return f\"{vehicle_info}, Fuel Type: {self.fuel_type}\"\n",
    "\n",
    "# Create an instance of the Car class\n",
    "car = Car(\"Toyota\", \"Camry\", 2022, \"Gasoline\")\n",
    "\n",
    "# Call the display_info method of the Car class\n",
    "print(car.display_info())  # Output: 2022 Toyota Camry, Fuel Type: Gasoline\n"
   ]
  },
  {
   "cell_type": "markdown",
   "id": "a32500e8",
   "metadata": {},
   "source": [
    "<b> 7. Create a base class called \"Employee\" with attributes like \"name\" and \"salary.\"\n",
    "Derive two classes, \"Manager\" and \"Developer,\" from \"Employee.\" Add an additional\n",
    "attribute called \"department\" for the \"Manager\" class and \"programming_language\"\n",
    "for the \"Developer\" class.</b>"
   ]
  },
  {
   "cell_type": "code",
   "execution_count": 3,
   "id": "e13ce48b",
   "metadata": {},
   "outputs": [
    {
     "name": "stdout",
     "output_type": "stream",
     "text": [
      "Name: John, Salary: $80000, Department: HR\n",
      "Name: Alice, Salary: $75000, Programming Language: Python\n"
     ]
    }
   ],
   "source": [
    "class Employee:\n",
    "    def __init__(self, name, salary):\n",
    "        self.name = name\n",
    "        self.salary = salary\n",
    "\n",
    "class Manager(Employee):\n",
    "    def __init__(self, name, salary, department):\n",
    "        # Call the constructor of the base class (Employee)\n",
    "        super().__init__(name, salary)\n",
    "        self.department = department\n",
    "\n",
    "    def display_info(self):\n",
    "        return f\"Name: {self.name}, Salary: ${self.salary}, Department: {self.department}\"\n",
    "\n",
    "class Developer(Employee):\n",
    "    def __init__(self, name, salary, programming_language):\n",
    "        # Call the constructor of the base class (Employee)\n",
    "        super().__init__(name, salary)\n",
    "        self.programming_language = programming_language\n",
    "\n",
    "    def display_info(self):\n",
    "        return f\"Name: {self.name}, Salary: ${self.salary}, Programming Language: {self.programming_language}\"\n",
    "\n",
    "# Create instances of the Manager and Developer classes\n",
    "manager = Manager(\"John\", 80000, \"HR\")\n",
    "developer = Developer(\"Alice\", 75000, \"Python\")\n",
    "\n",
    "# Display information about the Manager and Developer\n",
    "print(manager.display_info())  # Output: Name: John, Salary: $80000, Department: HR\n",
    "print(developer.display_info())  # Output: Name: Alice, Salary: $75000, Programming Language: Python\n"
   ]
  },
  {
   "cell_type": "markdown",
   "id": "52c2b18a",
   "metadata": {},
   "source": [
    "<b> 8. Design a base class called \"Shape\" with attributes like \"colour\" and \"border_width.\"\n",
    "Create derived classes, \"Rectangle\" and \"Circle,\" that inherit from \"Shape\" and add\n",
    "specific attributes like \"length\" and \"width\" for the \"Rectangle\" class and \"radius\" for\n",
    "the \"Circle\" class.</b>"
   ]
  },
  {
   "cell_type": "code",
   "execution_count": 4,
   "id": "5c151e07",
   "metadata": {},
   "outputs": [
    {
     "name": "stdout",
     "output_type": "stream",
     "text": [
      "Color: Blue, Border Width: 2, Length: 10, Width: 5\n",
      "Color: Red, Border Width: 1, Radius: 7\n"
     ]
    }
   ],
   "source": [
    "class Shape:\n",
    "    def __init__(self, color, border_width):\n",
    "        self.color = color\n",
    "        self.border_width = border_width\n",
    "\n",
    "    def display_info(self):\n",
    "        return f\"Color: {self.color}, Border Width: {self.border_width}\"\n",
    "\n",
    "class Rectangle(Shape):\n",
    "    def __init__(self, color, border_width, length, width):\n",
    "        # Call the constructor of the base class (Shape)\n",
    "        super().__init__(color, border_width)\n",
    "        self.length = length\n",
    "        self.width = width\n",
    "\n",
    "    def display_info(self):\n",
    "        shape_info = super().display_info()\n",
    "        return f\"{shape_info}, Length: {self.length}, Width: {self.width}\"\n",
    "\n",
    "class Circle(Shape):\n",
    "    def __init__(self, color, border_width, radius):\n",
    "        # Call the constructor of the base class (Shape)\n",
    "        super().__init__(color, border_width)\n",
    "        self.radius = radius\n",
    "\n",
    "    def display_info(self):\n",
    "        shape_info = super().display_info()\n",
    "        return f\"{shape_info}, Radius: {self.radius}\"\n",
    "\n",
    "# Create instances of the Rectangle and Circle classes\n",
    "rectangle = Rectangle(\"Blue\", 2, 10, 5)\n",
    "circle = Circle(\"Red\", 1, 7)\n",
    "\n",
    "# Display information about the Rectangle and Circle\n",
    "print(rectangle.display_info())  # Output: Color: Blue, Border Width: 2, Length: 10, Width: 5\n",
    "print(circle.display_info())  # Output: Color: Red, Border Width: 1, Radius: 7\n"
   ]
  },
  {
   "cell_type": "markdown",
   "id": "e1ae56f7",
   "metadata": {},
   "source": [
    "<b> 9. Create a base class called \"Device\" with attributes like \"brand\" and \"model.\" Derive\n",
    "two classes, \"Phone\" and \"Tablet,\" from \"Device.\" Add specific attributes like\n",
    "\"screen_size\" for the \"Phone\" class and \"battery_capacity\" for the \"Tablet\" class.</b>"
   ]
  },
  {
   "cell_type": "code",
   "execution_count": 5,
   "id": "27dc4acd",
   "metadata": {},
   "outputs": [
    {
     "name": "stdout",
     "output_type": "stream",
     "text": [
      "Brand: Apple, Model: iPhone 13, Screen Size: 6.1 inches\n",
      "Brand: Samsung, Model: Galaxy Tab S7, Battery Capacity: 8000 mAh\n"
     ]
    }
   ],
   "source": [
    "class Device:\n",
    "    def __init__(self, brand, model):\n",
    "        self.brand = brand\n",
    "        self.model = model\n",
    "\n",
    "    def display_info(self):\n",
    "        return f\"Brand: {self.brand}, Model: {self.model}\"\n",
    "\n",
    "class Phone(Device):\n",
    "    def __init__(self, brand, model, screen_size):\n",
    "        # Call the constructor of the base class (Device)\n",
    "        super().__init__(brand, model)\n",
    "        self.screen_size = screen_size\n",
    "\n",
    "    def display_info(self):\n",
    "        device_info = super().display_info()\n",
    "        return f\"{device_info}, Screen Size: {self.screen_size} inches\"\n",
    "\n",
    "class Tablet(Device):\n",
    "    def __init__(self, brand, model, battery_capacity):\n",
    "        # Call the constructor of the base class (Device)\n",
    "        super().__init__(brand, model)\n",
    "        self.battery_capacity = battery_capacity\n",
    "\n",
    "    def display_info(self):\n",
    "        device_info = super().display_info()\n",
    "        return f\"{device_info}, Battery Capacity: {self.battery_capacity} mAh\"\n",
    "\n",
    "# Create instances of the Phone and Tablet classes\n",
    "phone = Phone(\"Apple\", \"iPhone 13\", 6.1)\n",
    "tablet = Tablet(\"Samsung\", \"Galaxy Tab S7\", 8000)\n",
    "\n",
    "# Display information about the Phone and Tablet\n",
    "print(phone.display_info())  # Output: Brand: Apple, Model: iPhone 13, Screen Size: 6.1 inches\n",
    "print(tablet.display_info())  # Output: Brand: Samsung, Model: Galaxy Tab S7, Battery Capacity: 8000 mAh\n"
   ]
  },
  {
   "cell_type": "markdown",
   "id": "efe1249f",
   "metadata": {},
   "source": [
    "<b> 10. Create a base class called \"BankAccount\" with attributes like \"account_number\" and\n",
    "\"balance.\" Derive two classes, \"SavingsAccount\" and \"CheckingAccount,\" from\n",
    "\"BankAccount.\" Add specific methods like \"calculate_interest\" for the\n",
    "\"SavingsAccount\" class and \"deduct_fees\" for the \"CheckingAccount\" class</b>"
   ]
  },
  {
   "cell_type": "code",
   "execution_count": 6,
   "id": "04e67ec7",
   "metadata": {},
   "outputs": [
    {
     "name": "stdout",
     "output_type": "stream",
     "text": [
      "Savings Account Information:\n",
      "Account Number: SA12345, Balance: $1000.0, Interest Rate: 2.5%\n",
      "After calculating interest:\n",
      "Account Number: SA12345, Balance: $1025.0, Interest Rate: 2.5%\n",
      "\n",
      "Checking Account Information:\n",
      "Account Number: CA67890, Balance: $1500.0, Monthly Fee: $10.0\n",
      "After deducting monthly fee:\n",
      "Account Number: CA67890, Balance: $1490.0, Monthly Fee: $10.0\n"
     ]
    }
   ],
   "source": [
    "class BankAccount:\n",
    "    def __init__(self, account_number, balance):\n",
    "        self.account_number = account_number\n",
    "        self.balance = balance\n",
    "\n",
    "    def display_info(self):\n",
    "        return f\"Account Number: {self.account_number}, Balance: ${self.balance}\"\n",
    "\n",
    "class SavingsAccount(BankAccount):\n",
    "    def __init__(self, account_number, balance, interest_rate):\n",
    "        # Call the constructor of the base class (BankAccount)\n",
    "        super().__init__(account_number, balance)\n",
    "        self.interest_rate = interest_rate\n",
    "\n",
    "    def calculate_interest(self):\n",
    "        # Calculate and add interest to the balance\n",
    "        interest = self.balance * (self.interest_rate / 100)\n",
    "        self.balance += interest\n",
    "\n",
    "    def display_info(self):\n",
    "        account_info = super().display_info()\n",
    "        return f\"{account_info}, Interest Rate: {self.interest_rate}%\"\n",
    "\n",
    "class CheckingAccount(BankAccount):\n",
    "    def __init__(self, account_number, balance, monthly_fee):\n",
    "        # Call the constructor of the base class (BankAccount)\n",
    "        super().__init__(account_number, balance)\n",
    "        self.monthly_fee = monthly_fee\n",
    "\n",
    "    def deduct_fees(self):\n",
    "        # Deduct the monthly fee from the balance\n",
    "        self.balance -= self.monthly_fee\n",
    "\n",
    "    def display_info(self):\n",
    "        account_info = super().display_info()\n",
    "        return f\"{account_info}, Monthly Fee: ${self.monthly_fee}\"\n",
    "\n",
    "# Create instances of the SavingsAccount and CheckingAccount classes\n",
    "savings_account = SavingsAccount(\"SA12345\", 1000.0, 2.5)\n",
    "checking_account = CheckingAccount(\"CA67890\", 1500.0, 10.0)\n",
    "\n",
    "# Display information about the accounts before and after operations\n",
    "print(\"Savings Account Information:\")\n",
    "print(savings_account.display_info())  # Output: Account Number: SA12345, Balance: $1000.0, Interest Rate: 2.5%\n",
    "savings_account.calculate_interest()\n",
    "print(\"After calculating interest:\")\n",
    "print(savings_account.display_info())  # Output: Account Number: SA12345, Balance: $1025.0, Interest Rate: 2.5%\n",
    "\n",
    "print(\"\\nChecking Account Information:\")\n",
    "print(checking_account.display_info())  # Output: Account Number: CA67890, Balance: $1500.0, Monthly Fee: $10.0\n",
    "checking_account.deduct_fees()\n",
    "print(\"After deducting monthly fee:\")\n",
    "print(checking_account.display_info())  # Output: Account Number: CA67890, Balance: $1490.0, Monthly Fee: $10.0\n"
   ]
  }
 ],
 "metadata": {
  "kernelspec": {
   "display_name": "Python 3 (ipykernel)",
   "language": "python",
   "name": "python3"
  },
  "language_info": {
   "codemirror_mode": {
    "name": "ipython",
    "version": 3
   },
   "file_extension": ".py",
   "mimetype": "text/x-python",
   "name": "python",
   "nbconvert_exporter": "python",
   "pygments_lexer": "ipython3",
   "version": "3.10.9"
  }
 },
 "nbformat": 4,
 "nbformat_minor": 5
}
