{
 "cells": [
  {
   "cell_type": "markdown",
   "id": "7a8f0f9d",
   "metadata": {},
   "source": [
    "<b> 1. What is the role of try and exception block?</b>"
   ]
  },
  {
   "cell_type": "markdown",
   "id": "3505b71a",
   "metadata": {},
   "source": [
    "<ul>\n",
    "<li>It is a mechanism in programming to handle runtime errors, which are known as exceptions.&nbsp;</li>\n",
    "<li>It's a process where you define a block of code that will be executed if an error occurs when the program is running. This allows the program to continue running (or terminate gracefully) even if an error occurs.</li>\n",
    "<li>Without exception handling, an error occurring in a program would cause the program to immediately stop. This can be very undesirable, especially in production software, as it can lead to a poor user experience or even data loss.</li>"
   ]
  },
  {
   "cell_type": "markdown",
   "id": "332fdbe7",
   "metadata": {},
   "source": [
    "<b> 2. What is the syntax for a basic try-except block?</b>"
   ]
  },
  {
   "cell_type": "markdown",
   "id": "24645b53",
   "metadata": {},
   "source": [
    "try block: The code within the try block contains the statements that may potentially raise an exception. It allows you to specify the section of code that you want to monitor for exceptions.\n",
    "\n",
    "except block: If an exception occurs within the try block, the corresponding except block(s) are executed. The except block allows you to define the actions or code that should be executed when a specific exception is raised. You can have multiple except blocks to handle different types of exceptions.\n",
    "\n",
    "The else block allows you run code without errors.\n",
    "The finally block executes code regardless of the try-and-except blocks.\n",
    "Use the raise keyword to throw (or raise) an exception.\n",
    "\n",
    "\n",
    "```python\n",
    "try:\n",
    "    # Code that may raise an exception\n",
    "    # ...\n",
    "except ExceptionType as e:\n",
    "    # Code to handle the exception\n",
    "    # ...\n",
    "```"
   ]
  },
  {
   "cell_type": "markdown",
   "id": "723c099c",
   "metadata": {},
   "source": [
    "<b> 3. What happens if an exception occurs inside a try block and there is no matching\n",
    "except block?\n",
    "</b>"
   ]
  },
  {
   "cell_type": "markdown",
   "id": "0ebd000a",
   "metadata": {},
   "source": [
    "f an exception occurs inside a try block, and there is no matching except block to handle that specific exception type, then the program execution will stop and the error will be displayed."
   ]
  },
  {
   "cell_type": "markdown",
   "id": "ca11f010",
   "metadata": {},
   "source": [
    "<b> 4. What is the difference between using a bare except block and specifying a specific\n",
    "exception type?</b>"
   ]
  },
  {
   "cell_type": "markdown",
   "id": "ce0921a0",
   "metadata": {},
   "source": [
    "When we specify a specific exception type in an except block, such as except ZeroDivisionError, we are telling Python to catch only exceptions of that specific type (or its subclasses). This allows us to handle different exceptions differently based on their nature. But when we give a bare except block it will handle all types of error and give the output as we have specified.It becomes difficult to trace the exact error when bare except block is used."
   ]
  },
  {
   "cell_type": "markdown",
   "id": "63905bd9",
   "metadata": {},
   "source": [
    "<b> 5. Can you have nested try-except blocks in Python? If yes, then give an example.\n",
    "</b>"
   ]
  },
  {
   "cell_type": "markdown",
   "id": "3eb451ce",
   "metadata": {},
   "source": [
    "Yes, we can have nested try-except blocks in Python. This means we can place one try-except block inside another to handle exceptions at different levels of our code.Example: "
   ]
  },
  {
   "cell_type": "code",
   "execution_count": 1,
   "id": "096c9c05",
   "metadata": {},
   "outputs": [
    {
     "name": "stdout",
     "output_type": "stream",
     "text": [
      "Enter a number: 5\n",
      "Result: 2.0\n"
     ]
    }
   ],
   "source": [
    "try:\n",
    "    # Outer try block\n",
    "    num = int(input(\"Enter a number: \"))\n",
    "    \n",
    "    try:\n",
    "        # Inner try block\n",
    "        result = 10 / num\n",
    "        print(\"Result:\", result)\n",
    "    except ZeroDivisionError:\n",
    "        print(\"Inner Error: Division by zero occurred\")\n",
    "except ValueError:\n",
    "    print(\"Outer Error: Invalid input, please enter a valid number\")\n"
   ]
  },
  {
   "cell_type": "markdown",
   "id": "23486aa2",
   "metadata": {},
   "source": [
    "<b> 6. Can we use multiple exception blocks, if yes then give an example.\n",
    "</b>"
   ]
  },
  {
   "cell_type": "markdown",
   "id": "aebc4c8b",
   "metadata": {},
   "source": [
    "Yes, you can use multiple except blocks to handle different types of exceptions in Python.Example:"
   ]
  },
  {
   "cell_type": "code",
   "execution_count": 2,
   "id": "290ab27a",
   "metadata": {},
   "outputs": [
    {
     "name": "stdout",
     "output_type": "stream",
     "text": [
      "Enter a number: 0\n",
      "Error: Division by zero occurred\n"
     ]
    }
   ],
   "source": [
    "try:\n",
    "    num = int(input(\"Enter a number: \"))\n",
    "    result = 10 / num\n",
    "    print(\"Result:\", result)\n",
    "except ValueError:\n",
    "    print(\"Error: Invalid input, please enter a valid number\")\n",
    "except ZeroDivisionError:\n",
    "    print(\"Error: Division by zero occurred\")\n",
    "except Exception as e:\n",
    "    print(f\"An unexpected error occurred: {e}\")\n"
   ]
  },
  {
   "cell_type": "markdown",
   "id": "77b575c9",
   "metadata": {},
   "source": [
    "<b>7. Write the reason due to which following errors are raised:<br>\n",
    "a. EOFError<br>\n",
    "b. FloatingPointError<br>\n",
    "c. IndexError<br>\n",
    "d. MemoryError<br>\n",
    "e. OverflowError<br>\n",
    "f. TabError<br>\n",
    "g. ValueError<br>\n",
    "</b>"
   ]
  },
  {
   "cell_type": "markdown",
   "id": "3fe29e5d",
   "metadata": {},
   "source": [
    "**EOFError:** Raised when the input() function hits an end-of-file condition (EOF).<br>\n",
    "**FloatingPointError:** Raised when a floating point operation fails.<br>\n",
    "**IndexError:** Raised when a sequence subscript (index) is out of range.<br>\n",
    "**MemoryError:** Raised when an operation runs out of memory.<br>\n",
    "**OverflowError:** Raised when the result of an arithmetic operation is too large to be expressed.<br>\n",
    "**TabError:** Raised when indentation contains mixed tabs and spaces.<br>\n",
    "**ValueError:** Raised when a built-in operation or function receives an argument that has the right type but an inappropriate value.<br>"
   ]
  },
  {
   "cell_type": "markdown",
   "id": "d9f0db7f",
   "metadata": {},
   "source": [
    "<b> 8. Write code for the following given scenario and add try-exception block to it.<br>\n",
    "a. Program to divide two numbers<br>\n",
    "b. Program to convert a string to an integer<br>\n",
    "c. Program to access an element in a list<br>\n",
    "d. Program to handle a specific exception<br>\n",
    "e. Program to handle any exceptio</b>"
   ]
  },
  {
   "cell_type": "code",
   "execution_count": 3,
   "id": "71ae27ed",
   "metadata": {},
   "outputs": [
    {
     "name": "stdout",
     "output_type": "stream",
     "text": [
      "Enter numerator: 5\n",
      "Enter denominator: 0\n",
      "Error: Division by zero occurred\n"
     ]
    }
   ],
   "source": [
    "#Program to divide two numbers\n",
    "try:\n",
    "    num = int(input(\"Enter numerator: \"))\n",
    "    den = int(input(\"Enter denominator: \"))\n",
    "    result = num / den\n",
    "    print(\"Result:\", result)\n",
    "except ValueError:\n",
    "    print(\"Error: Invalid input, please enter a valid number\")\n",
    "except ZeroDivisionError:\n",
    "    print(\"Error: Division by zero occurred\")\n",
    "except Exception as e:\n",
    "    print(f\"An unexpected error occurred: {e}\")\n"
   ]
  },
  {
   "cell_type": "code",
   "execution_count": 4,
   "id": "a2e284c2",
   "metadata": {},
   "outputs": [
    {
     "name": "stdout",
     "output_type": "stream",
     "text": [
      "Enter an integer: gh\n",
      "Invalid input. Please enter a valid integer.\n"
     ]
    }
   ],
   "source": [
    "#b. Program to convert a string to an integer\n",
    "\n",
    "try:\n",
    "    user_input = input(\"Enter an integer: \")\n",
    "    number = int(user_input)\n",
    "    print(\"You entered:\", number)\n",
    "except ValueError:\n",
    "    print(\"Invalid input. Please enter a valid integer.\")\n"
   ]
  },
  {
   "cell_type": "code",
   "execution_count": 5,
   "id": "fcd3a374",
   "metadata": {},
   "outputs": [
    {
     "name": "stdout",
     "output_type": "stream",
     "text": [
      "IndexError error occurred.\n"
     ]
    }
   ],
   "source": [
    "# c. Program to access an element in a list\n",
    "\n",
    "try:\n",
    "    list1 = [1, 2, 3]\n",
    "\n",
    "    print(list1[3])  # Trying to reach an index that is out of range\n",
    "\n",
    "except IndexError:\n",
    "    print(\"IndexError error occurred.\")"
   ]
  },
  {
   "cell_type": "code",
   "execution_count": 6,
   "id": "bb3d014d",
   "metadata": {},
   "outputs": [
    {
     "name": "stdout",
     "output_type": "stream",
     "text": [
      "Enter an integer: df\n",
      "Invalid input. Please enter a valid integer.\n"
     ]
    }
   ],
   "source": [
    "# d. Program to handle a specific exception\n",
    "\n",
    "try:\n",
    "    user_input = input(\"Enter an integer: \")\n",
    "    number = int(user_input)\n",
    "    print(\"You entered:\", number)\n",
    "except ValueError:\n",
    "    print(\"Invalid input. Please enter a valid integer.\")"
   ]
  },
  {
   "cell_type": "code",
   "execution_count": 7,
   "id": "3a4c0e49",
   "metadata": {},
   "outputs": [
    {
     "name": "stdout",
     "output_type": "stream",
     "text": [
      "An error occurred\n"
     ]
    }
   ],
   "source": [
    "# e. Program to handle any exception\n",
    "\n",
    "try:\n",
    "    x = 10 / 0  # This will raise a ZeroDivisionError\n",
    "except:\n",
    "    print(\"An error occurred\")\n"
   ]
  }
 ],
 "metadata": {
  "kernelspec": {
   "display_name": "Python 3 (ipykernel)",
   "language": "python",
   "name": "python3"
  },
  "language_info": {
   "codemirror_mode": {
    "name": "ipython",
    "version": 3
   },
   "file_extension": ".py",
   "mimetype": "text/x-python",
   "name": "python",
   "nbconvert_exporter": "python",
   "pygments_lexer": "ipython3",
   "version": "3.10.9"
  }
 },
 "nbformat": 4,
 "nbformat_minor": 5
}
