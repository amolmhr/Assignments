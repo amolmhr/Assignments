{
 "cells": [
  {
   "cell_type": "markdown",
   "id": "abb02425",
   "metadata": {},
   "source": [
    "<b> Q.1. Create two int type variables, apply addition, subtraction, division and multiplications<br>\n",
    "and store the results in variables. Then print the data in the following format by calling thevariables:<br>\n",
    "First variable is __ & second variable is __.<br>\n",
    "Addition: __ + __ = __<br>\n",
    "Subtraction: __ - __ = __<br>\n",
    "Multiplication: __ * __ = __<br>\n",
    "Division: __ / __ = __<br></b>"
   ]
  },
  {
   "cell_type": "code",
   "execution_count": 1,
   "id": "78ab266f",
   "metadata": {},
   "outputs": [],
   "source": [
    "a = 10\n",
    "b= 20"
   ]
  },
  {
   "cell_type": "code",
   "execution_count": 6,
   "id": "28526838",
   "metadata": {},
   "outputs": [
    {
     "name": "stdout",
     "output_type": "stream",
     "text": [
      "First variable is 10 & second variable is 20.\n",
      "Addition: 10 + 20 = 30\n",
      "Subtraction: 10 - 20 = -10\n",
      "Multiplication: 10 * 20 = 200\n",
      "Division: 10 / 20 = 0.5\n"
     ]
    }
   ],
   "source": [
    "print(f'First variable is {a} & second variable is {b}.')\n",
    "print(f'Addition: {a} + {b} = {a+b}')\n",
    "print(f'Subtraction: {a} - {b} = {a-b}')\n",
    "print(f'Multiplication: {a} * {b} = {a*b}')\n",
    "print(f'Division: {a} / {b} = {a/b}')\n"
   ]
  },
  {
   "cell_type": "markdown",
   "id": "2b94960a",
   "metadata": {},
   "source": [
    "<b>Q.2. What is the difference between the following operators:\n",
    "(i) ‘/’ & ‘//’\n",
    "(ii) ‘**’ & ‘^’</b>"
   ]
  },
  {
   "cell_type": "markdown",
   "id": "c6c62877",
   "metadata": {},
   "source": [
    "(i) '/' and '//':\n",
    "\n",
    "'/' (Forward Slash):\n",
    "\n",
    "1. This is the standard division operator in Python.\n",
    "2. It performs floating-point division, which means it returns a floating-point (decimal) result, even if the operands are integers.\n",
    "\n",
    "'//' (Double Forward Slash):\n",
    "\n",
    "1. This is the floor division or integer division operator in Python.\n",
    "2. It performs division and rounds down to the nearest integer, discarding the decimal part of the result.\n",
    "\n",
    "(ii) '**' and '^':\n",
    "\n",
    "'**' (Double Asterisk):\n",
    "\n",
    "1. This operator is used for exponentiation in Python.\n",
    "2. It raises the left operand to the power of the right operand.\n",
    "\n",
    "'**' (Double Asterisk):\n",
    "\n",
    "1. This operator is used for exponentiation in Python.\n",
    "2. It raises the left operand to the power of the right operand."
   ]
  },
  {
   "cell_type": "markdown",
   "id": "e3954fdc",
   "metadata": {},
   "source": [
    "<b> Q.3. List the logical operators.</b>"
   ]
  },
  {
   "cell_type": "markdown",
   "id": "975a837f",
   "metadata": {},
   "source": [
    " There are three main logical operators that you can use to perform logical operations on boolean values (True or False). These operators are:<br>\n",
    " \n",
    " 1. and: The \"and\" operator returns True if both operands are True, and False otherwise. \n",
    " \n",
    " 2. or: The \"or\" operator returns True if at least one of the operands is True, and False if both operands are False.\n",
    " \n",
    " 3. not: The \"not\" operator negates the value of its operand. If the operand is True, not makes it False, and if the operand is False, not makes it True.\n",
    " \n",
    " "
   ]
  },
  {
   "cell_type": "markdown",
   "id": "af54e193",
   "metadata": {},
   "source": [
    "<b> Q.4. Explain right shift operator and left shift operator with examples.</b>"
   ]
  },
  {
   "cell_type": "markdown",
   "id": "4407efa0",
   "metadata": {},
   "source": [
    "In Python, the right shift operator (`>>`) and left shift operator (`<<`) are bitwise operators used to shift the bits of an integer to the right or left, respectively. These operators work on the binary representation of integers and can be used to perform efficient bit manipulation operations.\n",
    "\n",
    "\n",
    "\n",
    "1. Right Shift Operator (`>>`):\n",
    "   - The right shift operator shifts the bits of an integer to the right by a specified number of positions.\n",
    "   - It effectively divides the integer by a power of 2 (2 raised to the specified number of positions) and rounds down to the nearest integer.\n",
    "   \n",
    "\n",
    "\n",
    "\n",
    "   \n",
    "\n"
   ]
  },
  {
   "cell_type": "code",
   "execution_count": 8,
   "id": "d11e705b",
   "metadata": {},
   "outputs": [
    {
     "name": "stdout",
     "output_type": "stream",
     "text": [
      "4\n"
     ]
    }
   ],
   "source": [
    "x = 16  # Binary representation: 10000\n",
    "result = x >> 2  # Shift 2 positions to the right\n",
    "# Binary result: 00100, Decimal result: 4\n",
    "print(result)  # Output: 4"
   ]
  },
  {
   "cell_type": "code",
   "execution_count": 9,
   "id": "4ef1cce4",
   "metadata": {},
   "outputs": [
    {
     "name": "stdout",
     "output_type": "stream",
     "text": [
      "20\n"
     ]
    }
   ],
   "source": [
    "x = 5  # Binary representation: 101\n",
    "result = x << 2  # Shift 2 positions to the left\n",
    "# Binary result: 10100, Decimal result: 20\n",
    "print(result)  # Output: 20"
   ]
  },
  {
   "cell_type": "markdown",
   "id": "4f9e109f",
   "metadata": {},
   "source": [
    "2. Left Shift Operator (`<<`):\n",
    "   - The left shift operator shifts the bits of an integer to the left by a specified number of positions.\n",
    "   - It effectively multiplies the integer by a power of 2 (2 raised to the specified number of positions).\n",
    "  "
   ]
  },
  {
   "cell_type": "markdown",
   "id": "31b255e0",
   "metadata": {},
   "source": [
    "<b>Q.5. Create a list containing int type data of length 15. Then write a code to check if 10 is\n",
    "present in the list or not</b>"
   ]
  },
  {
   "cell_type": "code",
   "execution_count": 10,
   "id": "a2ace937",
   "metadata": {},
   "outputs": [],
   "source": [
    "list1 =[1,2,3,4,5,6,7,8,9,10,11,12,13,14,15] #list containing 15 int type elements"
   ]
  },
  {
   "cell_type": "code",
   "execution_count": 14,
   "id": "525a4c27",
   "metadata": {},
   "outputs": [
    {
     "name": "stdout",
     "output_type": "stream",
     "text": [
      "10 is present in the list.\n"
     ]
    }
   ],
   "source": [
    "# Code to check if 10 is present in the list or not\n",
    "if 10 in list1:\n",
    "    print(\"10 is present in the list.\")\n",
    "else:\n",
    "    print(\"10 is not present in the list.\")\n",
    "\n",
    "    "
   ]
  }
 ],
 "metadata": {
  "kernelspec": {
   "display_name": "Python 3 (ipykernel)",
   "language": "python",
   "name": "python3"
  },
  "language_info": {
   "codemirror_mode": {
    "name": "ipython",
    "version": 3
   },
   "file_extension": ".py",
   "mimetype": "text/x-python",
   "name": "python",
   "nbconvert_exporter": "python",
   "pygments_lexer": "ipython3",
   "version": "3.10.9"
  }
 },
 "nbformat": 4,
 "nbformat_minor": 5
}
