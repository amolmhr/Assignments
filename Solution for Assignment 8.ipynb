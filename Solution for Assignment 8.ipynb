{
 "cells": [
  {
   "cell_type": "markdown",
   "id": "830a0774",
   "metadata": {},
   "source": [
    "<b> 1. In Python, what is the difference between a built-in function and a user-defined function? Provide an\n",
    "example of each.</b> \n",
    "\n",
    "\n",
    "\n",
    "\n",
    "\n",
    "\n"
   ]
  },
  {
   "cell_type": "markdown",
   "id": "2d5b9812",
   "metadata": {},
   "source": [
    "The functions that are predefined in python library and can be used without defining them are called builtin function.<br>\n",
    "Ex print, len etc<br>\n",
    "\n",
    "The functions that are created by the user/programmer to do a specific task in the python are called user-defined functions.\n",
    "\n",
    "Example\n",
    "```python\n",
    "def addition (a,b):\n",
    "    return a+b\n",
    "```\n",
    "The given function will return addition of 2 numbers, the user can also include other statements in the return as per the choice and demand"
   ]
  },
  {
   "cell_type": "markdown",
   "id": "df68b116",
   "metadata": {},
   "source": [
    "<b>2. How can you pass arguments to a function in Python? Explain the difference between positional\n",
    "arguments and keyword arguments.</b>"
   ]
  },
  {
   "cell_type": "markdown",
   "id": "cb24f359",
   "metadata": {},
   "source": [
    "In Python, you can pass arguments to a function when we call it. Arguments are values or variables that is provided to a function to perform some operation or computation. There are two main ways to pass arguments to a function: using positional arguments and using keyword arguments.\n",
    "\n",
    "1. **Positional Arguments**:\n",
    "\n",
    "   Positional arguments are passed to a function based on their position or order in the function's parameter list. The order in which you provide the arguments must match the order in which the function expects them. Positional arguments are the most common way to pass arguments to a function.\n",
    "\n",
    "   Example of using positional arguments:\n",
    "   ```python\n",
    "   def name(name, surname):\n",
    "       return f\"{name} {surname}!\"\n",
    "\n",
    "   result = name(\"Amol\", \"Mehra\")\n",
    "   print(result)  # Output: \"Amol Mehra!\"\n",
    "   ```\n",
    "\n",
    "   In this example, the `name` and `greeting` parameters of the `greet` function are filled with values based on their position in the function call.\n",
    "\n",
    "2. **Keyword Arguments**:\n",
    "\n",
    "   Keyword arguments are passed to a function by specifying the parameter name followed by the argument value, separated by an equals sign (`=`). This allows you to pass arguments to a function in any order, as long as you specify the parameter names.\n",
    "\n",
    "   Example of using keyword arguments:\n",
    "   ```python\n",
    "   def greet(name, greeting):\n",
    "       return f\"{greeting}, {name}!\"\n",
    "\n",
    "   result = greet(greeting=\"Hello\", name=\"Amol\")\n",
    "   print(result)  # Output: \"Hello, Amol!\"\n",
    "   ```\n",
    "\n",
    "   In this example, the arguments are explicitly associated with the parameter names `name` and `greeting`, and their order in the function call doesn't matter.\n",
    "\n"
   ]
  },
  {
   "cell_type": "markdown",
   "id": "7568f9dd",
   "metadata": {},
   "source": [
    "<b>3. What is the purpose of the return statement in a function? Can a function have multiple return\n",
    "statements? Explain with an example.</b>"
   ]
  },
  {
   "cell_type": "markdown",
   "id": "e35cf5c3",
   "metadata": {},
   "source": [
    "The return statement in a function serves the purpose of specifying what value or values the function should produce as its output. When a return statement is encountered in a function, it immediately ends the function's execution and returns the specified value(s) to the caller of the function.\n",
    "\n",
    "A function can have multiple return statements\n",
    "\n",
    "```python\n",
    "def calculate_grade(score):\n",
    "    if score >= 90:\n",
    "        return \"A\"\n",
    "    elif score >= 80:\n",
    "        return \"B\"\n",
    "    elif score >= 70:\n",
    "        return \"C\"\n",
    "    elif score >= 60:\n",
    "        return \"D\"\n",
    "    else:\n",
    "        return \"F\"\n",
    "\n",
    "student1_score = 87\n",
    "student2_score = 65\n",
    "\n",
    "grade1 = calculate_grade(student1_score)\n",
    "grade2 = calculate_grade(student2_score)\n",
    "\n",
    "print(f\"Student 1 received a grade of {grade1}\")\n",
    "print(f\"Student 2 received a grade of {grade2}\")\n",
    "```\n",
    "In the above user defined function there are multiple return statements for diffrent conditions.Is a condition becomes true , the corresponding return statement will get executed."
   ]
  },
  {
   "cell_type": "markdown",
   "id": "f12f1ce7",
   "metadata": {},
   "source": [
    "<b>4. What are lambda functions in Python? How are they different from regular functions? Provide an\n",
    "example where a lambda function can be useful.</b>"
   ]
  },
  {
   "cell_type": "markdown",
   "id": "5e23aa13",
   "metadata": {},
   "source": [
    "Lambda functions in Python are a way to create small, anonymous, and unnamed functions. They are also known as lambda expressions or lambda forms. Lambda functions are defined using the lambda keyword, followed by one or more arguments, a colon (:), and an expression.\n",
    "\n",
    "```python\n",
    "# lambda arguments: expression\n",
    "\n",
    "add = lambda x, y: x + y\n",
    "print(add(5, 3))  # Output: 8\n",
    "```"
   ]
  },
  {
   "cell_type": "markdown",
   "id": "380dbf5c",
   "metadata": {},
   "source": [
    "<b>5. How does the concept of \"scope\" apply to functions in Python? Explain the difference between local\n",
    "scope and global scope.</b>"
   ]
  },
  {
   "cell_type": "markdown",
   "id": "bcc09396",
   "metadata": {},
   "source": [
    "In Python, \"scope\" refers to the region of a program where a particular variable is accessible or can be referenced. Python has different levels of scope, and the concept of scope plays a crucial role in how variables are accessed and manipulated, especially within functions. The two primary scopes in Python are \"local scope\" and \"global scope.\"\n",
    "\n",
    "1. **Local Scope**:\n",
    "\n",
    "   - **Function-Level Scope**: Variables defined within a function are said to have local scope. These variables are only accessible within that specific function.\n",
    "  \n",
    "   - **Example**:\n",
    "\n",
    "     ```python\n",
    "     def my_function():\n",
    "         x = 5  # x has local scope\n",
    "         print(x)\n",
    "\n",
    "     my_function()\n",
    "     # print(x)  # This will raise an error because x is not accessible here.\n",
    "     ```\n",
    "\n",
    "2. **Global Scope**:\n",
    "\n",
    "   - **Module-Level Scope**: Variables defined at the top level of a Python module (outside of any function) have global scope. They are accessible from anywhere within the module.\n",
    "  \n",
    "   - **Example**:\n",
    "\n",
    "     ```python\n",
    "     y = 5  # y has global scope\n",
    "\n",
    "     def another_function():\n",
    "         print(y)  # y is accessible within the function\n",
    "\n",
    "     another_function()\n",
    "     print(y)  # y is also accessible outside of the function\n",
    "     ```\n",
    "\n"
   ]
  },
  {
   "cell_type": "markdown",
   "id": "66b48472",
   "metadata": {},
   "source": [
    "<b> 6. How can you use the \"return\" statement in a Python function to return multiple values?</b>"
   ]
  },
  {
   "cell_type": "markdown",
   "id": "f4aad512",
   "metadata": {},
   "source": [
    "The return statements can return multiple values by using data structures like list,tuples,dictionaries.\n",
    "\n",
    "**Example**\n",
    "```python\n",
    "def list_of_numbers():\n",
    "    a= 10\n",
    "    b= 20\n",
    "    c= 30\n",
    "    return [a,b,c]\n",
    "\n",
    "list_of_numbers()\n",
    "```"
   ]
  },
  {
   "cell_type": "markdown",
   "id": "04a5a0fe",
   "metadata": {},
   "source": [
    "<b> 8. Create a function that can intake integer or decimal value and do following operations:\n",
    "a. Logarithmic function (log x)\n",
    "b. Exponential function (exp(x))\n",
    "c. Power function with base 2 (2x)\n",
    "d. Square root</b>"
   ]
  },
  {
   "cell_type": "code",
   "execution_count": 17,
   "id": "b5ec4d92",
   "metadata": {
    "scrolled": true
   },
   "outputs": [
    {
     "name": "stdout",
     "output_type": "stream",
     "text": [
      "Logarithmic: 1.3862943611198906\n",
      "Exponential: 54.598150033144236\n",
      "Power (2^x): 16.0\n",
      "Square Root: 2.0\n"
     ]
    }
   ],
   "source": [
    "\n",
    "import math\n",
    "\n",
    "def math_operations(x):\n",
    "    if isinstance(x, (int, float)):\n",
    "        log_result = math.log(x)\n",
    "        exp_result = math.exp(x)\n",
    "        power_result = math.pow(2, x)\n",
    "        sqrt_result = math.sqrt(x)\n",
    "        return {\n",
    "            \"Logarithmic\": log_result,\n",
    "            \"Exponential\": exp_result,\n",
    "            \"Power (2^x)\": power_result,\n",
    "            \"Square Root\": sqrt_result,\n",
    "        }\n",
    "    else:\n",
    "        return \"Invalid input. Please provide an integer or decimal value.\"\n",
    "\n",
    "# Example usage:\n",
    "input_value = 4.0\n",
    "results = math_operations(input_value)\n",
    "for operation, result in results.items():\n",
    "    print(f\"{operation}: {result}\")\n",
    "\n",
    "    "
   ]
  },
  {
   "cell_type": "markdown",
   "id": "025b3906",
   "metadata": {},
   "source": [
    "<b> 9. Create a function that takes a full name as an argument and returns first name and last name</b>"
   ]
  },
  {
   "cell_type": "code",
   "execution_count": 42,
   "id": "b06810e7",
   "metadata": {},
   "outputs": [],
   "source": [
    "def full_name(name):\n",
    "    \n",
    "    x= name.index(\" \")\n",
    "    first_name=name[:x]\n",
    "    second_name=name[x+1:]\n",
    "    print('First Name:',first_name)\n",
    "    print('Second name:',second_name)"
   ]
  },
  {
   "cell_type": "code",
   "execution_count": 43,
   "id": "f1c31286",
   "metadata": {
    "scrolled": true
   },
   "outputs": [
    {
     "name": "stdout",
     "output_type": "stream",
     "text": [
      "First Name: Amol\n",
      "Second name: Mehra\n"
     ]
    }
   ],
   "source": [
    "full_name('Amol Mehra')"
   ]
  }
 ],
 "metadata": {
  "kernelspec": {
   "display_name": "Python 3 (ipykernel)",
   "language": "python",
   "name": "python3"
  },
  "language_info": {
   "codemirror_mode": {
    "name": "ipython",
    "version": 3
   },
   "file_extension": ".py",
   "mimetype": "text/x-python",
   "name": "python",
   "nbconvert_exporter": "python",
   "pygments_lexer": "ipython3",
   "version": "3.10.9"
  }
 },
 "nbformat": 4,
 "nbformat_minor": 5
}
