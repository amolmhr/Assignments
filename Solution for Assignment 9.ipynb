{
 "cells": [
  {
   "cell_type": "markdown",
   "id": "06a51635",
   "metadata": {},
   "source": [
    "<b> 1. What is a lambda function in Python, and how does it differ from a regular function?</b>"
   ]
  },
  {
   "cell_type": "markdown",
   "id": "81072e20",
   "metadata": {},
   "source": [
    "Lambda functions in Python are a way to create small, anonymous, and unnamed functions. They are also known as lambda expressions or lambda forms. Lambda functions are defined using the lambda keyword, followed by one or more arguments, a colon (:), and an expression.\n",
    "\n",
    "```python\n",
    "# lambda arguments: expression\n",
    "\n",
    "add = lambda x, y: x + y\n",
    "print(add(5, 3))  # Output: 8\n",
    "```"
   ]
  },
  {
   "cell_type": "markdown",
   "id": "32be3f87",
   "metadata": {},
   "source": [
    "<b> 2. Can a lambda function in Python have multiple arguments? If yes, how can you define and use\n",
    "them?</b>"
   ]
  },
  {
   "cell_type": "markdown",
   "id": "4e474b73",
   "metadata": {},
   "source": [
    "Yes, a lambda function can take multiple arguments.The syntax for defining a lambda function with multiple arguments is as follows:\n",
    "\n",
    "lambda argument1, argument2, ... : expression\n",
    "\n",
    "Example:\n",
    "\n",
    "```python\n",
    "# lambda arguments: expression\n",
    "\n",
    "add = lambda x, y: x + y\n",
    "print(add(5, 3))  # Output: 8\n",
    "```\n"
   ]
  },
  {
   "cell_type": "markdown",
   "id": "43fc4172",
   "metadata": {},
   "source": [
    "<b> 3. How are lambda functions typically used in Python? Provide an example use case. </b>"
   ]
  },
  {
   "cell_type": "markdown",
   "id": "5eaadb45",
   "metadata": {},
   "source": [
    "The lambda function can be used by using following syntax:\n",
    "\n",
    "```python \n",
    "lambda argument1, argument2, ... : expression\n",
    "```\n",
    "\n",
    "Example:\n",
    "\n",
    "```python\n",
    "# Define a lambda function that takes three arguments and returns their sum\n",
    "add_three_numbers = lambda x, y, z: x + y + z\n",
    "\n",
    "# Use the lambda function\n",
    "result = add_three_numbers(5, 3, 8)\n",
    "print(result)  # Output: 16\n",
    "```"
   ]
  },
  {
   "cell_type": "markdown",
   "id": "10be2a50",
   "metadata": {},
   "source": [
    "<b> 4. What are the advantages and limitations of lambda functions compared to regular functions in\n",
    "Python?</b>"
   ]
  },
  {
   "cell_type": "markdown",
   "id": "73ffcd92",
   "metadata": {},
   "source": [
    "Lambda functions in Python offer several advantages and have certain limitations when compared to regular functions:\n",
    "\n",
    "Advantages of Lambda Functions:\n",
    "\n",
    "1. Conciseness: Lambda functions are concise and allow you to define small, one-time-use functions without the need for a full `def` statement. This can make your code more compact and readable, especially when working with functions like `map`, `filter`, and `sorted`.\n",
    "\n",
    "2. Readability: For simple operations, lambda functions can make your code more readable by keeping the function definition inline with the operation being performed.\n",
    "\n",
    "3. Function as a First-Class Citizen: In Python, functions are first-class citizens, meaning they can be passed as arguments to other functions or returned from functions. Lambda functions are well-suited for this kind of functional programming style.\n",
    "\n",
    "4. Anonymous Functions: Lambda functions are anonymous, meaning they don't need a name, which can be useful when you only need a function in one specific place in your code.\n",
    "\n",
    "Limitations of Lambda Functions:\n",
    "\n",
    "1. Limited Expressiveness: Lambda functions are limited in terms of expressiveness. They can only contain a single expression, and that expression must return a value. This means you can't include statements, loops, or multiple expressions within a lambda.\n",
    "\n",
    "2. Limited Complexity: Lambda functions are best suited for simple, one-liner operations. If you need to define complex logic or multi-step operations, regular functions defined with `def` are more appropriate.\n",
    "\n",
    "3. Reduced Readability: While lambda functions can improve code readability for simple operations, they can make code harder to read when used for complex operations or when they are excessively nested within other code constructs.\n",
    "\n",
    "\n",
    "\n"
   ]
  },
  {
   "cell_type": "markdown",
   "id": "325538c6",
   "metadata": {},
   "source": [
    "<b> 5. Are lambda functions in Python able to access variables defined outside of their own scope?\n",
    "Explain with an example.</b>"
   ]
  },
  {
   "cell_type": "markdown",
   "id": "d0827765",
   "metadata": {},
   "source": [
    "Yes, lambda functions in Python can access variables defined outside of their own scope. They have access to variables from the surrounding (enclosing) scope in which they are defined. This concept is known as \"lexical scoping\" or \"closure.\"\n",
    "\n",
    "Here's an example to illustrate this:\n",
    "\n",
    "```python\n",
    "def outer_function(x):\n",
    "    # Define a lambda function inside the outer_function\n",
    "    inner_lambda = lambda y: x + y\n",
    "    return inner_lambda\n",
    "\n",
    "# Create an instance of the inner lambda function\n",
    "closure = outer_function(10)\n",
    "\n",
    "# Call the inner lambda function with an argument\n",
    "result = closure(5)\n",
    "\n",
    "print(result)  # Output will be 15\n",
    "```\n",
    "\n",
    "In this example, we have an `outer_function` that takes one argument `x`. Inside `outer_function`, we define a lambda function called `inner_lambda` that takes another argument `y`. The lambda function `inner_lambda` captures the variable `x` from its enclosing scope (the scope of `outer_function`). When we call `outer_function(10)`, it returns the `inner_lambda` function, which still \"remembers\" the value of `x` as 10.\n",
    "\n",
    "Then, we create an instance of the `inner_lambda` function by calling `outer_function(10)`, which we store in the variable `closure`. When we later call `closure(5)`, it effectively adds `5` to the `x` value captured from the enclosing scope, resulting in `15`.\n",
    "\n",
    "This behavior demonstrates how lambda functions can access and \"close over\" variables from their enclosing scope, allowing them to use those variables when they are called, even if they are called in a different scope or after the enclosing function has completed execution."
   ]
  },
  {
   "cell_type": "markdown",
   "id": "1a3de581",
   "metadata": {},
   "source": [
    "<b> 6. Write a lambda function to calculate the square of a given number.</b>"
   ]
  },
  {
   "cell_type": "code",
   "execution_count": 2,
   "id": "050c1264",
   "metadata": {},
   "outputs": [
    {
     "data": {
      "text/plain": [
       "4"
      ]
     },
     "execution_count": 2,
     "metadata": {},
     "output_type": "execute_result"
    }
   ],
   "source": [
    "square_num = lambda x: x*x #lambda function to calculate square of given number\n",
    "\n",
    "square_num(2) # Use case"
   ]
  },
  {
   "cell_type": "markdown",
   "id": "f3698da5",
   "metadata": {},
   "source": [
    "<b> 7. Create a lambda function to find the maximum value in a list of integers.</b>"
   ]
  },
  {
   "cell_type": "code",
   "execution_count": 3,
   "id": "d52cee4c",
   "metadata": {},
   "outputs": [
    {
     "name": "stdout",
     "output_type": "stream",
     "text": [
      "20\n"
     ]
    }
   ],
   "source": [
    "numbers = [10, 5, 8, 20, 3]\n",
    "\n",
    "# Using a lambda function to find the maximum value\n",
    "max_value = max(numbers, key=lambda x: x)\n",
    "\n",
    "print(max_value)  # Output will be 20\n"
   ]
  },
  {
   "cell_type": "markdown",
   "id": "770106bd",
   "metadata": {},
   "source": [
    "<b>8. Implement a lambda function to filter out all the even numbers from a list of integers.</b>\n"
   ]
  },
  {
   "cell_type": "code",
   "execution_count": 5,
   "id": "e5d0aacf",
   "metadata": {},
   "outputs": [
    {
     "name": "stdout",
     "output_type": "stream",
     "text": [
      "[2, 4, 6, 8, 10]\n"
     ]
    }
   ],
   "source": [
    "# List of integers\n",
    "numbers = [1, 2, 3, 4, 5, 6, 7, 8, 9, 10]\n",
    "\n",
    "# Use a lambda function to filter out even numbers\n",
    "even_numbers = list(filter(lambda x: x % 2 == 0, numbers))\n",
    "\n",
    "# Print the result\n",
    "print(even_numbers)\n"
   ]
  },
  {
   "cell_type": "markdown",
   "id": "9aeefc3f",
   "metadata": {},
   "source": [
    "<b> 9. Write a lambda function to sort a list of strings in ascending order based on the length of each\n",
    "string.</b>"
   ]
  },
  {
   "cell_type": "code",
   "execution_count": 6,
   "id": "bc7422d3",
   "metadata": {},
   "outputs": [
    {
     "name": "stdout",
     "output_type": "stream",
     "text": [
      "['date', 'apple', 'banana', 'cherry', 'elderberry']\n"
     ]
    }
   ],
   "source": [
    "# List of strings\n",
    "strings = [\"apple\", \"banana\", \"cherry\", \"date\", \"elderberry\"]\n",
    "\n",
    "# Sort the list based on the length of each string in ascending order\n",
    "sorted_strings = sorted(strings, key=lambda x: len(x))\n",
    "\n",
    "# Print the sorted list\n",
    "print(sorted_strings)\n"
   ]
  },
  {
   "cell_type": "markdown",
   "id": "5c238564",
   "metadata": {},
   "source": [
    "<b> 10. Create a lambda function that takes two lists as input and returns a new list containing the\n",
    "common elements between the two lists.</b>"
   ]
  },
  {
   "cell_type": "code",
   "execution_count": 7,
   "id": "9f80bce5",
   "metadata": {},
   "outputs": [
    {
     "name": "stdout",
     "output_type": "stream",
     "text": [
      "[3, 4, 5]\n"
     ]
    }
   ],
   "source": [
    "# Two lists\n",
    "list1 = [1, 2, 3, 4, 5]\n",
    "list2 = [3, 4, 5, 6, 7]\n",
    "\n",
    "# Lambda function to find common elements\n",
    "find_common = lambda x, y: list(filter(lambda item: item in x, y))\n",
    "\n",
    "# Call the lambda function to get the common elements\n",
    "common_elements = find_common(list1, list2)\n",
    "\n",
    "# Print the common elements\n",
    "print(common_elements)\n"
   ]
  },
  {
   "cell_type": "markdown",
   "id": "8b46ce27",
   "metadata": {},
   "source": [
    "<b> 11. Write a recursive function to calculate the factorial of a given positive integer.</b>"
   ]
  },
  {
   "cell_type": "code",
   "execution_count": 1,
   "id": "bf4805ab",
   "metadata": {},
   "outputs": [],
   "source": [
    "def factorial(n):\n",
    "    # Base case: 1! = 1\n",
    "    if n == 1:\n",
    "        return 1\n",
    "    # Recursive case: n! = n * (n-1)!\n",
    "    else:\n",
    "        return n * factorial(n-1)"
   ]
  },
  {
   "cell_type": "code",
   "execution_count": 2,
   "id": "4a39a729",
   "metadata": {},
   "outputs": [
    {
     "data": {
      "text/plain": [
       "120"
      ]
     },
     "execution_count": 2,
     "metadata": {},
     "output_type": "execute_result"
    }
   ],
   "source": [
    "factorial(5)"
   ]
  },
  {
   "cell_type": "markdown",
   "id": "10510908",
   "metadata": {},
   "source": [
    "<b> 12. Implement a recursive function to compute the nth Fibonacci number.</b>"
   ]
  },
  {
   "cell_type": "markdown",
   "id": "f43182fe",
   "metadata": {},
   "source": [
    "The Fibonacci sequence is a set of numbers in which each number is the sum of the two numbers before it. It usually starts with 0 and 1. In certain variants, it begins with two 1's.\n",
    "\n",
    "Here's the beginning of the Fibonacci sequence:\n",
    "\n",
    "0, 1, 1, 2, 3, 5, 8, 13, 21, ..."
   ]
  },
  {
   "cell_type": "code",
   "execution_count": 5,
   "id": "235dd736",
   "metadata": {},
   "outputs": [
    {
     "name": "stdout",
     "output_type": "stream",
     "text": [
      "Step 1: Our Fibonacci series up to n-1 terms = [0, 1]\n",
      "Step 2: Next term to add = 1\n",
      "Step 3: Our Fibonacci series after adding next term = [0, 1, 1]\n",
      "Step 4: Our Fibonacci series up to n-1 terms = [0, 1, 1]\n",
      "Step 5: Next term to add = 2\n",
      "Step 6: Our Fibonacci series after adding next term = [0, 1, 1, 2]\n",
      "Step 7: Our Fibonacci series up to n-1 terms = [0, 1, 1, 2]\n",
      "Step 8: Next term to add = 3\n",
      "Step 9: Our Fibonacci series after adding next term = [0, 1, 1, 2, 3]\n",
      "Step 10: Our Fibonacci series up to n-1 terms = [0, 1, 1, 2, 3]\n",
      "Step 11: Next term to add = 5\n",
      "Step 12: Our Fibonacci series after adding next term = [0, 1, 1, 2, 3, 5]\n",
      "Step 13: Our Fibonacci series up to n-1 terms = [0, 1, 1, 2, 3, 5]\n",
      "Step 14: Next term to add = 8\n",
      "Step 15: Our Fibonacci series after adding next term = [0, 1, 1, 2, 3, 5, 8]\n",
      "Step 16: Our Fibonacci series up to n-1 terms = [0, 1, 1, 2, 3, 5, 8]\n",
      "Step 17: Next term to add = 13\n",
      "Step 18: Our Fibonacci series after adding next term = [0, 1, 1, 2, 3, 5, 8, 13]\n",
      "Step 19: Our Fibonacci series up to n-1 terms = [0, 1, 1, 2, 3, 5, 8, 13]\n",
      "Step 20: Next term to add = 21\n",
      "Step 21: Our Fibonacci series after adding next term = [0, 1, 1, 2, 3, 5, 8, 13, 21]\n",
      "Step 22: Our Fibonacci series up to n-1 terms = [0, 1, 1, 2, 3, 5, 8, 13, 21]\n",
      "Step 23: Next term to add = 34\n",
      "Step 24: Our Fibonacci series after adding next term = [0, 1, 1, 2, 3, 5, 8, 13, 21, 34]\n",
      "So my final Fibonacci series is --->  [0, 1, 1, 2, 3, 5, 8, 13, 21, 34]\n"
     ]
    }
   ],
   "source": [
    "# We need to have a counter\n",
    "cnt = 1 # This is a counter, because to explain each step. Nothing more than it.\n",
    "\n",
    "def my_fibonacci(n):\n",
    "    global cnt\n",
    "\n",
    "    if n <= 0:\n",
    "        return []\n",
    "    elif n == 1:\n",
    "        return [0]\n",
    "    elif n == 2:\n",
    "        return [0, 1]\n",
    "    else:\n",
    "        fibonacci_series = my_fibonacci(n - 1)\n",
    "        print(f\"Step {cnt}: Our Fibonacci series up to n-1 terms = {fibonacci_series}\")\n",
    "        cnt += 1\n",
    "        next_term = fibonacci_series[-1] + fibonacci_series[-2]\n",
    "        print(f\"Step {cnt}: Next term to add = {next_term}\")\n",
    "        cnt += 1\n",
    "        fibonacci_series.append(next_term)\n",
    "        print(f\"Step {cnt}: Our Fibonacci series after adding next term = {fibonacci_series}\")\n",
    "        cnt += 1\n",
    "        return fibonacci_series\n",
    "\n",
    "print(\"So my final Fibonacci series is ---> \", my_fibonacci(10))\n"
   ]
  },
  {
   "cell_type": "markdown",
   "id": "019b518d",
   "metadata": {},
   "source": [
    "<b> 13. Create a recursive function to find the sum of all the elements in a given list.</b>"
   ]
  },
  {
   "cell_type": "code",
   "execution_count": 6,
   "id": "0bc6c397",
   "metadata": {},
   "outputs": [
    {
     "name": "stdout",
     "output_type": "stream",
     "text": [
      "15\n"
     ]
    }
   ],
   "source": [
    "def recursive_sum(lst):\n",
    "    # Base case: If the list is empty, return 0\n",
    "    if len(lst) == 0:\n",
    "        return 0\n",
    "    # Recursive case: Add the first element to the sum of the rest of the list\n",
    "    else:\n",
    "        return lst[0] + recursive_sum(lst[1:])\n",
    "\n",
    "# Example list\n",
    "my_list = [1, 2, 3, 4, 5]\n",
    "\n",
    "# Call the recursive_sum function\n",
    "result = recursive_sum(my_list)\n",
    "\n",
    "# Print the sum\n",
    "print(result)\n"
   ]
  },
  {
   "cell_type": "markdown",
   "id": "b33e1caf",
   "metadata": {},
   "source": [
    "<b> 14. Write a recursive function to determine whether a given string is a palindrome.</b>"
   ]
  },
  {
   "cell_type": "code",
   "execution_count": 7,
   "id": "62862f06",
   "metadata": {},
   "outputs": [],
   "source": [
    "def palindrome(my_string):\n",
    "    \n",
    "    l=len(my_string)\n",
    "    n=0\n",
    "    # Base Case: if length is zero, declare the string as palindrome\n",
    "    if l==0:\n",
    "        print(\"String is palindrome\")\n",
    "        \n",
    "    # Recursive Case: Reduce the first and last alphabet of string\n",
    "    elif my_string[n]==my_string[l-1]:\n",
    "        palindrome(my_string[1:l-1])\n",
    "        \n",
    "    else:\n",
    "        print(\"String is not palindrome\")"
   ]
  },
  {
   "cell_type": "code",
   "execution_count": 8,
   "id": "c8b46d5f",
   "metadata": {},
   "outputs": [
    {
     "name": "stdout",
     "output_type": "stream",
     "text": [
      "String is palindrome\n"
     ]
    }
   ],
   "source": [
    "# Example string\n",
    "my_string = \"malayalam\"\n",
    "\n",
    "# Call the recursive_sum function\n",
    "palindrome(my_string)"
   ]
  },
  {
   "cell_type": "markdown",
   "id": "3a86b898",
   "metadata": {},
   "source": [
    "<b> 15. Implement a recursive function to find the greatest common divisor (GCD) of two positive integers.</b>"
   ]
  },
  {
   "cell_type": "code",
   "execution_count": 9,
   "id": "66f3685c",
   "metadata": {},
   "outputs": [
    {
     "name": "stdout",
     "output_type": "stream",
     "text": [
      "The GCD of 48 and 18 is 6\n"
     ]
    }
   ],
   "source": [
    "def gcd_recursive(a, b):\n",
    "    # Base case: If b is 0, return a (a is the GCD)\n",
    "    if b == 0:\n",
    "        return a\n",
    "    # Recursive case: Compute the GCD of b and the remainder of a divided by b\n",
    "    else:\n",
    "        return gcd_recursive(b, a % b)\n",
    "\n",
    "# Example\n",
    "num1 = 48\n",
    "num2 = 18\n",
    "\n",
    "# Call the gcd_recursive function\n",
    "result = gcd_recursive(num1, num2)\n",
    "\n",
    "# Print the GCD\n",
    "print(f\"The GCD of {num1} and {num2} is {result}\")\n"
   ]
  }
 ],
 "metadata": {
  "kernelspec": {
   "display_name": "Python 3 (ipykernel)",
   "language": "python",
   "name": "python3"
  },
  "language_info": {
   "codemirror_mode": {
    "name": "ipython",
    "version": 3
   },
   "file_extension": ".py",
   "mimetype": "text/x-python",
   "name": "python",
   "nbconvert_exporter": "python",
   "pygments_lexer": "ipython3",
   "version": "3.10.9"
  }
 },
 "nbformat": 4,
 "nbformat_minor": 5
}
