{
 "cells": [
  {
   "cell_type": "markdown",
   "id": "c00e5fee",
   "metadata": {},
   "source": [
    "<b> 1. What are keywords in python? Using the keyword library, print all the python keywords.</b>"
   ]
  },
  {
   "cell_type": "markdown",
   "id": "8f655584",
   "metadata": {},
   "source": [
    "Keywords are the words that are predefined in python programming for various operations. These keywords cannot be used as variable names in python.\n",
    "All the keywords present in python can be printed by importing keyword library:"
   ]
  },
  {
   "cell_type": "code",
   "execution_count": 2,
   "id": "2ac9d220",
   "metadata": {},
   "outputs": [
    {
     "name": "stdout",
     "output_type": "stream",
     "text": [
      "['False', 'None', 'True', 'and', 'as', 'assert', 'async', 'await', 'break', 'class', 'continue', 'def', 'del', 'elif', 'else', 'except', 'finally', 'for', 'from', 'global', 'if', 'import', 'in', 'is', 'lambda', 'nonlocal', 'not', 'or', 'pass', 'raise', 'return', 'try', 'while', 'with', 'yield']\n"
     ]
    }
   ],
   "source": [
    "import keyword as kw\n",
    "print(kw.kwlist)"
   ]
  },
  {
   "cell_type": "markdown",
   "id": "3d291a77",
   "metadata": {},
   "source": [
    "<b> 2. What are the rules to create variables in python?</b>"
   ]
  },
  {
   "cell_type": "markdown",
   "id": "101ef7bc",
   "metadata": {},
   "source": [
    "The rules to create variables in python are as follows: <br>\n",
    "\n",
    "1. The variable name can contain alphabets,numbers and special characters.\n",
    "2. The variable name must not start with a number.\n",
    "3. The variable name cant be start with special character other than underscore(_).\n",
    "4. The variable name is case sensitive.\n",
    "5. The variable name must not be a keyword."
   ]
  },
  {
   "cell_type": "markdown",
   "id": "b817a8cb",
   "metadata": {},
   "source": [
    "<b>3. What are the standards and conventions followed for the nomenclature of variables in python to improve code readability and maintainability?</b>"
   ]
  },
  {
   "cell_type": "markdown",
   "id": "172968b9",
   "metadata": {},
   "source": [
    "In Python, there are generally accepted standards and conventions for naming variables to improve code readability and maintainability. Here are some key points to consider:\n",
    "\n",
    "1. Variable Names: Use lowercase letters and words separated by underscores ('snake_case') for variable names.\n",
    "2. Avoid Reserved Words: Do not use Python reserved words or built-in function names as variable names. \n",
    "3. Descriptive Names: Use meaningful and descriptive names that convey the purpose or content of the variable.\n",
    "4. Avoid Single-letter Names: Except for simple loop counters, avoid using single-letter variable names. Using descriptive names makes the code more readable and understandable.\n",
    "5. Class Names: Use CamelCase (capitalize each word without underscores) for class names. \n",
    "\n"
   ]
  },
  {
   "cell_type": "markdown",
   "id": "cdd73940",
   "metadata": {},
   "source": [
    "<b> 4. What will happen if a keyword is used as a variable name?</b>"
   ]
  },
  {
   "cell_type": "markdown",
   "id": "1f3a27a5",
   "metadata": {},
   "source": [
    "If a keyword is used as a variable name then Syntax Error will generate in python and the program will not run beyond the line.\n",
    "A keyword cannot be used as a variable name.\n",
    "\n"
   ]
  },
  {
   "cell_type": "markdown",
   "id": "45e74823",
   "metadata": {},
   "source": [
    "<b> 5. For what purpose def keyword is used?</b>"
   ]
  },
  {
   "cell_type": "markdown",
   "id": "5a2b28b6",
   "metadata": {},
   "source": [
    "def keyword is used for defining a function in python. The syntax will be:\n",
    "\n",
    "def function_name:\n",
    "\n",
    "The complete code of the function will be indented."
   ]
  },
  {
   "cell_type": "markdown",
   "id": "fd9d2b3a",
   "metadata": {},
   "source": [
    "<b> Q.6. What is the operation of this special character ‘\\’? </b>"
   ]
  },
  {
   "cell_type": "markdown",
   "id": "adeda3c9",
   "metadata": {},
   "source": [
    "The special character is called backslash in python .The '\\' is used for multiple operations at various areas.\n",
    "Some of them are as follows:\n",
    "\n",
    "1. Line Continuation: Whenever we want to write the code in the next line in continuation ,we use \\ in python to improve readability. Ex:\n",
    "\n",
    "count = 1 + 2 + 3 \\\n",
    "        + 4\n",
    "\n",
    "2. Escape Sequences: The backslash is used to represent special characters within strings. For example:\n",
    "\n",
    "'\\n' represents a newline character.\n",
    "'\\t' represents a tab character.\n",
    "\n"
   ]
  },
  {
   "cell_type": "markdown",
   "id": "3d0afbf6",
   "metadata": {},
   "source": [
    "<b> Q.7. Give an example of the following conditions:\n",
    "(i) Homogeneous list\n",
    "(ii) Heterogeneous set\n",
    "(iii) Homogeneous tuple</b>"
   ]
  },
  {
   "cell_type": "markdown",
   "id": "5931d7aa",
   "metadata": {},
   "source": [
    "1. Homogeneous list: In a homogeneous list all the elements of the list will be of same data type. Ex:\n",
    "\n",
    "homogeneous_list = [1,2,3,4,5,6]\n",
    "\n",
    "2. Hetrogeneous set: In a hetrogeneous set , the elements can be of diffrent data type. Ex:\n",
    "\n",
    "hetrogeneous_set = {1,'s',5,'b'}\n",
    "\n",
    "3. Homogeneous tuple: In a homogeneous tuple all the elements of the list will be of same data type. Ex:\n",
    " \n",
    " homogeneous_tuple = (1,2,3,4,5,6)"
   ]
  },
  {
   "cell_type": "markdown",
   "id": "4f97ba63",
   "metadata": {},
   "source": [
    "<b> Q.8. Explain the mutable and immutable data types with proper explanation & examples. </b>"
   ]
  },
  {
   "cell_type": "markdown",
   "id": "ae24fc8b",
   "metadata": {},
   "source": [
    "The data types in which the value can be changed after defining the variable and assigning the value to it are called mutable data types. List,set,dictionaries etc are mutable data types. The mutability can be easily explained from below examples:"
   ]
  },
  {
   "cell_type": "code",
   "execution_count": 5,
   "id": "4075e2a1",
   "metadata": {},
   "outputs": [
    {
     "data": {
      "text/plain": [
       "2135282651200"
      ]
     },
     "execution_count": 5,
     "metadata": {},
     "output_type": "execute_result"
    }
   ],
   "source": [
    "list1 = ['a','b','c','d']\n",
    "id(list1)"
   ]
  },
  {
   "cell_type": "markdown",
   "id": "206bd2fc",
   "metadata": {},
   "source": [
    "Since the list is mutable the value of the elements in list can be easily changed."
   ]
  },
  {
   "cell_type": "code",
   "execution_count": 6,
   "id": "b5eb90e0",
   "metadata": {},
   "outputs": [
    {
     "data": {
      "text/plain": [
       "2135282651200"
      ]
     },
     "execution_count": 6,
     "metadata": {},
     "output_type": "execute_result"
    }
   ],
   "source": [
    "list1[0]='new'\n",
    "id(list1)"
   ]
  },
  {
   "cell_type": "markdown",
   "id": "6a2d6271",
   "metadata": {},
   "source": [
    "The memory location of the variable remain unchanged even when the list is modified"
   ]
  },
  {
   "cell_type": "markdown",
   "id": "0800d3fc",
   "metadata": {},
   "source": [
    "The data types in which the value cannot be changed after defining the variable and assigning the value to it are called immutable data types.When we try to change the value in immutable data type a new object is formed in memory with updated value.\n",
    "Tuples, int,strings are immutable data types.Some of the examples are:"
   ]
  },
  {
   "cell_type": "code",
   "execution_count": 7,
   "id": "de43d844",
   "metadata": {},
   "outputs": [
    {
     "data": {
      "text/plain": [
       "2135198138736"
      ]
     },
     "execution_count": 7,
     "metadata": {},
     "output_type": "execute_result"
    }
   ],
   "source": [
    "x=5\n",
    "id(x)"
   ]
  },
  {
   "cell_type": "markdown",
   "id": "c3f964d9",
   "metadata": {},
   "source": [
    "Now when we try to change the value of x by reassigning it to a new value, the memory location willchange as a new object is formed"
   ]
  },
  {
   "cell_type": "code",
   "execution_count": 8,
   "id": "dd086131",
   "metadata": {},
   "outputs": [
    {
     "data": {
      "text/plain": [
       "2135198138768"
      ]
     },
     "execution_count": 8,
     "metadata": {},
     "output_type": "execute_result"
    }
   ],
   "source": [
    "x=6\n",
    "id(x)"
   ]
  },
  {
   "cell_type": "markdown",
   "id": "b237196f",
   "metadata": {},
   "source": [
    "We can also see tuples for immutable data types:"
   ]
  },
  {
   "cell_type": "code",
   "execution_count": 9,
   "id": "4fc26c84",
   "metadata": {},
   "outputs": [],
   "source": [
    "my_tuple = (1,2,3,4,5,6)"
   ]
  },
  {
   "cell_type": "code",
   "execution_count": 10,
   "id": "296590a4",
   "metadata": {},
   "outputs": [
    {
     "ename": "TypeError",
     "evalue": "'tuple' object does not support item assignment",
     "output_type": "error",
     "traceback": [
      "\u001b[1;31m---------------------------------------------------------------------------\u001b[0m",
      "\u001b[1;31mTypeError\u001b[0m                                 Traceback (most recent call last)",
      "Cell \u001b[1;32mIn[10], line 1\u001b[0m\n\u001b[1;32m----> 1\u001b[0m my_tuple[\u001b[38;5;241m0\u001b[39m] \u001b[38;5;241m=\u001b[39m \u001b[38;5;241m5\u001b[39m\n",
      "\u001b[1;31mTypeError\u001b[0m: 'tuple' object does not support item assignment"
     ]
    }
   ],
   "source": [
    "my_tuple[0] = 5"
   ]
  },
  {
   "cell_type": "markdown",
   "id": "c0df3987",
   "metadata": {},
   "source": [
    "When we try to change the value of an element in tuple the error will come as tuple is immutable and to change the value a new tuple needs to be defined."
   ]
  },
  {
   "cell_type": "markdown",
   "id": "8499a287",
   "metadata": {},
   "source": [
    "<b> Q.9. Write a code to create the given structure using only for loop<br>\n",
    " *<br>\n",
    "***<br>\n",
    "*****<br>\n",
    "*******<br>\n",
    "*********<br></b>"
   ]
  },
  {
   "cell_type": "code",
   "execution_count": 42,
   "id": "2d643b6f",
   "metadata": {},
   "outputs": [
    {
     "name": "stdout",
     "output_type": "stream",
     "text": [
      "    *\n",
      "   ***\n",
      "  *****\n",
      " *******\n",
      "*********\n"
     ]
    }
   ],
   "source": [
    "space= 4\n",
    "for i in range(1,10,2):\n",
    "    print(space*(\" \"),end=\"\")\n",
    "   \n",
    "    for j in range(1,i+1):\n",
    "        \n",
    "        print(\"*\",end=\"\")\n",
    "    space= space-1\n",
    "    print(\"\")\n",
    "    \n",
    "    "
   ]
  },
  {
   "cell_type": "markdown",
   "id": "455c64cb",
   "metadata": {},
   "source": [
    "<b>Q.10. Write a code to create the given structure using while loop.<br>\n",
    "|||||||||<br>\n",
    "|||||||<br>\n",
    "|||||<br>\n",
    "|||<br>\n",
    "|</b>"
   ]
  },
  {
   "cell_type": "code",
   "execution_count": 37,
   "id": "204fd7de",
   "metadata": {},
   "outputs": [
    {
     "name": "stdout",
     "output_type": "stream",
     "text": [
      "|||||||||\n",
      " |||||||\n",
      "  |||||\n",
      "   |||\n",
      "    |\n"
     ]
    }
   ],
   "source": [
    "i=9\n",
    "space=0\n",
    "while i>0:\n",
    "    j=0\n",
    "    print((space)*\" \",end=\"\")\n",
    "    while j<i:\n",
    "        print(\"|\",end=\"\")\n",
    "        j=j+1\n",
    "    print(\"\")\n",
    "    i=i-2\n",
    "    space=space+1\n",
    "    "
   ]
  }
 ],
 "metadata": {
  "kernelspec": {
   "display_name": "Python 3 (ipykernel)",
   "language": "python",
   "name": "python3"
  },
  "language_info": {
   "codemirror_mode": {
    "name": "ipython",
    "version": 3
   },
   "file_extension": ".py",
   "mimetype": "text/x-python",
   "name": "python",
   "nbconvert_exporter": "python",
   "pygments_lexer": "ipython3",
   "version": "3.10.9"
  }
 },
 "nbformat": 4,
 "nbformat_minor": 5
}
